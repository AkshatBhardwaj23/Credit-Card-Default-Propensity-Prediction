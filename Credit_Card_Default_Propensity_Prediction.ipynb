{
  "nbformat": 4,
  "nbformat_minor": 0,
  "metadata": {
    "kernelspec": {
      "name": "python3",
      "display_name": "Python 3"
    },
    "language_info": {
      "codemirror_mode": {
        "name": "ipython",
        "version": 3
      },
      "file_extension": ".py",
      "mimetype": "text/x-python",
      "name": "python",
      "nbconvert_exporter": "python",
      "pygments_lexer": "ipython3",
      "version": "3.7.3"
    },
    "colab": {
      "name": "Credit Card Default Propensity Prediction.ipynb",
      "provenance": [],
      "collapsed_sections": []
    },
    "accelerator": "GPU"
  },
  "cells": [
    {
      "cell_type": "code",
      "metadata": {
        "id": "TrhEccux1YLT",
        "colab_type": "code",
        "outputId": "bb7a2986-a18c-4733-e9c5-4dccd680417d",
        "colab": {
          "base_uri": "https://localhost:8080/",
          "height": 122
        }
      },
      "source": [
        "from google.colab import drive\n",
        "drive.mount('/content/drive')"
      ],
      "execution_count": 1,
      "outputs": [
        {
          "output_type": "stream",
          "text": [
            "Go to this URL in a browser: https://accounts.google.com/o/oauth2/auth?client_id=947318989803-6bn6qk8qdgf4n4g3pfee6491hc0brc4i.apps.googleusercontent.com&redirect_uri=urn%3Aietf%3Awg%3Aoauth%3A2.0%3Aoob&scope=email%20https%3A%2F%2Fwww.googleapis.com%2Fauth%2Fdocs.test%20https%3A%2F%2Fwww.googleapis.com%2Fauth%2Fdrive%20https%3A%2F%2Fwww.googleapis.com%2Fauth%2Fdrive.photos.readonly%20https%3A%2F%2Fwww.googleapis.com%2Fauth%2Fpeopleapi.readonly&response_type=code\n",
            "\n",
            "Enter your authorization code:\n",
            "··········\n",
            "Mounted at /content/drive\n"
          ],
          "name": "stdout"
        }
      ]
    },
    {
      "cell_type": "markdown",
      "metadata": {
        "id": "vHYvAO6K9LRS",
        "colab_type": "text"
      },
      "source": [
        "## Objective – \n",
        "Predict the probability of a customer defaulting payment for the credit card the subsequent month, based on past information. The past information is provided in the dataset. This probability will help the collections team to prioritise follow up with customers who have a high propensity of defaulting."
      ]
    },
    {
      "cell_type": "markdown",
      "metadata": {
        "id": "SazRw-IH9cF7",
        "colab_type": "text"
      },
      "source": [
        "## About the dataset\n",
        "The dataset contains the following information of 30000 customers:\n",
        "\n",
        "DEFAULT - Default payment next month (Yes=1, No=0)\n",
        "\n",
        "LIMIT_BAL - Amount of the given credit (INR)\n",
        "\n",
        "SEX - Gender (1 = male; 2 = female)\n",
        "\n",
        "EDUCATION - Education (1 = graduate school; 2 = university; 3 = high school; 4 = others)\n",
        "\n",
        "MARRIAGE - (1 = married; 2 = single; 3 = others)\n",
        "\n",
        "AGE - (year)\n",
        "\n",
        "PAST_PAY - History of repayment status\n",
        "- PAST_PAY1 = the repayment status in September 2005\n",
        "- PAST_PAY2 = the repayment status in August 2005\n",
        "- PAST_PAY6 = the repayment status in April 2005\n",
        "- The measurement scale for the repayment status is i. -1 = pay duly\n",
        "ii. 1 = payment delay for one month\n",
        "iii. 2 = payment delay for two months\n",
        "iv. 8 = payment delay for eight months\n",
        "v. 9 = payment delay for nine months and above\n",
        "\n",
        "BILL_AMT- Amount of bill statement (INR)\n",
        "- BILL_AMT1 = amount of bill statement in September 2005\n",
        "- BILL_AMT2 = amount of bill statement in August 2005\n",
        "- BILL_AMT6 = amount of bill statement in April 2005\n",
        "\n",
        "PAY_AMT - Amount of previous payment (INR)\n",
        "- PAY_AMT1 = amount paid in September 2005\n",
        "- PAY_AMT2 = amount paid in August 2005\n",
        "- PAY_AMT6 = amount paid in April 2005"
      ]
    },
    {
      "cell_type": "code",
      "metadata": {
        "id": "718i5cQD1NPg",
        "colab_type": "code",
        "colab": {}
      },
      "source": [
        "import pandas as pd\n",
        "import numpy as np\n",
        "import seaborn as sns\n",
        "import scipy.stats as stats\n",
        "import matplotlib.pyplot as plt\n",
        "import statsmodels.api as sm\n",
        "import pylab\n",
        "pd.set_option(\"max_columns\",None)\n",
        "data = pd.read_csv('/content/credit_card.csv')\n",
        "import warnings\n",
        "warnings.filterwarnings(\"ignore\")"
      ],
      "execution_count": 0,
      "outputs": []
    },
    {
      "cell_type": "code",
      "metadata": {
        "id": "xeamU0GYqFTP",
        "colab_type": "code",
        "outputId": "0035adcd-6208-449c-eeea-3b133542e4bd",
        "colab": {
          "base_uri": "https://localhost:8080/",
          "height": 224
        }
      },
      "source": [
        "data.head()"
      ],
      "execution_count": 73,
      "outputs": [
        {
          "output_type": "execute_result",
          "data": {
            "text/html": [
              "<div>\n",
              "<style scoped>\n",
              "    .dataframe tbody tr th:only-of-type {\n",
              "        vertical-align: middle;\n",
              "    }\n",
              "\n",
              "    .dataframe tbody tr th {\n",
              "        vertical-align: top;\n",
              "    }\n",
              "\n",
              "    .dataframe thead th {\n",
              "        text-align: right;\n",
              "    }\n",
              "</style>\n",
              "<table border=\"1\" class=\"dataframe\">\n",
              "  <thead>\n",
              "    <tr style=\"text-align: right;\">\n",
              "      <th></th>\n",
              "      <th>ID</th>\n",
              "      <th>LIMIT_BAL</th>\n",
              "      <th>SEX</th>\n",
              "      <th>EDUCATION</th>\n",
              "      <th>MARRIAGE</th>\n",
              "      <th>AGE</th>\n",
              "      <th>PAY_1</th>\n",
              "      <th>PAY_2</th>\n",
              "      <th>PAY_3</th>\n",
              "      <th>PAY_4</th>\n",
              "      <th>PAY_5</th>\n",
              "      <th>PAY_6</th>\n",
              "      <th>BILL_AMT1</th>\n",
              "      <th>BILL_AMT2</th>\n",
              "      <th>BILL_AMT3</th>\n",
              "      <th>BILL_AMT4</th>\n",
              "      <th>BILL_AMT5</th>\n",
              "      <th>BILL_AMT6</th>\n",
              "      <th>PAY_AMT1</th>\n",
              "      <th>PAY_AMT2</th>\n",
              "      <th>PAY_AMT3</th>\n",
              "      <th>PAY_AMT4</th>\n",
              "      <th>PAY_AMT5</th>\n",
              "      <th>PAY_AMT6</th>\n",
              "      <th>DEFAULT</th>\n",
              "    </tr>\n",
              "  </thead>\n",
              "  <tbody>\n",
              "    <tr>\n",
              "      <th>0</th>\n",
              "      <td>1</td>\n",
              "      <td>20000</td>\n",
              "      <td>2</td>\n",
              "      <td>2</td>\n",
              "      <td>1</td>\n",
              "      <td>24</td>\n",
              "      <td>2</td>\n",
              "      <td>2</td>\n",
              "      <td>-1</td>\n",
              "      <td>-1</td>\n",
              "      <td>-2</td>\n",
              "      <td>-2</td>\n",
              "      <td>3913</td>\n",
              "      <td>3102</td>\n",
              "      <td>689</td>\n",
              "      <td>0</td>\n",
              "      <td>0</td>\n",
              "      <td>0</td>\n",
              "      <td>0</td>\n",
              "      <td>689</td>\n",
              "      <td>0</td>\n",
              "      <td>0</td>\n",
              "      <td>0</td>\n",
              "      <td>0</td>\n",
              "      <td>1</td>\n",
              "    </tr>\n",
              "    <tr>\n",
              "      <th>1</th>\n",
              "      <td>2</td>\n",
              "      <td>120000</td>\n",
              "      <td>2</td>\n",
              "      <td>2</td>\n",
              "      <td>2</td>\n",
              "      <td>26</td>\n",
              "      <td>-1</td>\n",
              "      <td>2</td>\n",
              "      <td>0</td>\n",
              "      <td>0</td>\n",
              "      <td>0</td>\n",
              "      <td>2</td>\n",
              "      <td>2682</td>\n",
              "      <td>1725</td>\n",
              "      <td>2682</td>\n",
              "      <td>3272</td>\n",
              "      <td>3455</td>\n",
              "      <td>3261</td>\n",
              "      <td>0</td>\n",
              "      <td>1000</td>\n",
              "      <td>1000</td>\n",
              "      <td>1000</td>\n",
              "      <td>0</td>\n",
              "      <td>2000</td>\n",
              "      <td>1</td>\n",
              "    </tr>\n",
              "    <tr>\n",
              "      <th>2</th>\n",
              "      <td>3</td>\n",
              "      <td>90000</td>\n",
              "      <td>2</td>\n",
              "      <td>2</td>\n",
              "      <td>2</td>\n",
              "      <td>34</td>\n",
              "      <td>0</td>\n",
              "      <td>0</td>\n",
              "      <td>0</td>\n",
              "      <td>0</td>\n",
              "      <td>0</td>\n",
              "      <td>0</td>\n",
              "      <td>29239</td>\n",
              "      <td>14027</td>\n",
              "      <td>13559</td>\n",
              "      <td>14331</td>\n",
              "      <td>14948</td>\n",
              "      <td>15549</td>\n",
              "      <td>1518</td>\n",
              "      <td>1500</td>\n",
              "      <td>1000</td>\n",
              "      <td>1000</td>\n",
              "      <td>1000</td>\n",
              "      <td>5000</td>\n",
              "      <td>0</td>\n",
              "    </tr>\n",
              "    <tr>\n",
              "      <th>3</th>\n",
              "      <td>4</td>\n",
              "      <td>50000</td>\n",
              "      <td>2</td>\n",
              "      <td>2</td>\n",
              "      <td>1</td>\n",
              "      <td>37</td>\n",
              "      <td>0</td>\n",
              "      <td>0</td>\n",
              "      <td>0</td>\n",
              "      <td>0</td>\n",
              "      <td>0</td>\n",
              "      <td>0</td>\n",
              "      <td>46990</td>\n",
              "      <td>48233</td>\n",
              "      <td>49291</td>\n",
              "      <td>28314</td>\n",
              "      <td>28959</td>\n",
              "      <td>29547</td>\n",
              "      <td>2000</td>\n",
              "      <td>2019</td>\n",
              "      <td>1200</td>\n",
              "      <td>1100</td>\n",
              "      <td>1069</td>\n",
              "      <td>1000</td>\n",
              "      <td>0</td>\n",
              "    </tr>\n",
              "    <tr>\n",
              "      <th>4</th>\n",
              "      <td>5</td>\n",
              "      <td>50000</td>\n",
              "      <td>1</td>\n",
              "      <td>2</td>\n",
              "      <td>1</td>\n",
              "      <td>57</td>\n",
              "      <td>-1</td>\n",
              "      <td>0</td>\n",
              "      <td>-1</td>\n",
              "      <td>0</td>\n",
              "      <td>0</td>\n",
              "      <td>0</td>\n",
              "      <td>8617</td>\n",
              "      <td>5670</td>\n",
              "      <td>35835</td>\n",
              "      <td>20940</td>\n",
              "      <td>19146</td>\n",
              "      <td>19131</td>\n",
              "      <td>2000</td>\n",
              "      <td>36681</td>\n",
              "      <td>10000</td>\n",
              "      <td>9000</td>\n",
              "      <td>689</td>\n",
              "      <td>679</td>\n",
              "      <td>0</td>\n",
              "    </tr>\n",
              "  </tbody>\n",
              "</table>\n",
              "</div>"
            ],
            "text/plain": [
              "   ID  LIMIT_BAL  SEX  EDUCATION  MARRIAGE  AGE  PAY_1  PAY_2  PAY_3  PAY_4  \\\n",
              "0   1      20000    2          2         1   24      2      2     -1     -1   \n",
              "1   2     120000    2          2         2   26     -1      2      0      0   \n",
              "2   3      90000    2          2         2   34      0      0      0      0   \n",
              "3   4      50000    2          2         1   37      0      0      0      0   \n",
              "4   5      50000    1          2         1   57     -1      0     -1      0   \n",
              "\n",
              "   PAY_5  PAY_6  BILL_AMT1  BILL_AMT2  BILL_AMT3  BILL_AMT4  BILL_AMT5  \\\n",
              "0     -2     -2       3913       3102        689          0          0   \n",
              "1      0      2       2682       1725       2682       3272       3455   \n",
              "2      0      0      29239      14027      13559      14331      14948   \n",
              "3      0      0      46990      48233      49291      28314      28959   \n",
              "4      0      0       8617       5670      35835      20940      19146   \n",
              "\n",
              "   BILL_AMT6  PAY_AMT1  PAY_AMT2  PAY_AMT3  PAY_AMT4  PAY_AMT5  PAY_AMT6  \\\n",
              "0          0         0       689         0         0         0         0   \n",
              "1       3261         0      1000      1000      1000         0      2000   \n",
              "2      15549      1518      1500      1000      1000      1000      5000   \n",
              "3      29547      2000      2019      1200      1100      1069      1000   \n",
              "4      19131      2000     36681     10000      9000       689       679   \n",
              "\n",
              "   DEFAULT  \n",
              "0        1  \n",
              "1        1  \n",
              "2        0  \n",
              "3        0  \n",
              "4        0  "
            ]
          },
          "metadata": {
            "tags": []
          },
          "execution_count": 73
        }
      ]
    },
    {
      "cell_type": "code",
      "metadata": {
        "id": "iWAsT7v-9ss6",
        "colab_type": "code",
        "colab": {
          "base_uri": "https://localhost:8080/",
          "height": 527
        },
        "outputId": "eb390faf-cac3-4bb3-db88-f3c099e64fd6"
      },
      "source": [
        "data.info()"
      ],
      "execution_count": 74,
      "outputs": [
        {
          "output_type": "stream",
          "text": [
            "<class 'pandas.core.frame.DataFrame'>\n",
            "RangeIndex: 30000 entries, 0 to 29999\n",
            "Data columns (total 25 columns):\n",
            "ID           30000 non-null int64\n",
            "LIMIT_BAL    30000 non-null int64\n",
            "SEX          30000 non-null int64\n",
            "EDUCATION    30000 non-null int64\n",
            "MARRIAGE     30000 non-null int64\n",
            "AGE          30000 non-null int64\n",
            "PAY_1        30000 non-null int64\n",
            "PAY_2        30000 non-null int64\n",
            "PAY_3        30000 non-null int64\n",
            "PAY_4        30000 non-null int64\n",
            "PAY_5        30000 non-null int64\n",
            "PAY_6        30000 non-null int64\n",
            "BILL_AMT1    30000 non-null int64\n",
            "BILL_AMT2    30000 non-null int64\n",
            "BILL_AMT3    30000 non-null int64\n",
            "BILL_AMT4    30000 non-null int64\n",
            "BILL_AMT5    30000 non-null int64\n",
            "BILL_AMT6    30000 non-null int64\n",
            "PAY_AMT1     30000 non-null int64\n",
            "PAY_AMT2     30000 non-null int64\n",
            "PAY_AMT3     30000 non-null int64\n",
            "PAY_AMT4     30000 non-null int64\n",
            "PAY_AMT5     30000 non-null int64\n",
            "PAY_AMT6     30000 non-null int64\n",
            "DEFAULT      30000 non-null int64\n",
            "dtypes: int64(25)\n",
            "memory usage: 5.7 MB\n"
          ],
          "name": "stdout"
        }
      ]
    },
    {
      "cell_type": "code",
      "metadata": {
        "id": "OtJtD6kb9ufK",
        "colab_type": "code",
        "colab": {
          "base_uri": "https://localhost:8080/",
          "height": 317
        },
        "outputId": "4cb16001-b9aa-4092-b417-9673945836ae"
      },
      "source": [
        "data.describe()"
      ],
      "execution_count": 75,
      "outputs": [
        {
          "output_type": "execute_result",
          "data": {
            "text/html": [
              "<div>\n",
              "<style scoped>\n",
              "    .dataframe tbody tr th:only-of-type {\n",
              "        vertical-align: middle;\n",
              "    }\n",
              "\n",
              "    .dataframe tbody tr th {\n",
              "        vertical-align: top;\n",
              "    }\n",
              "\n",
              "    .dataframe thead th {\n",
              "        text-align: right;\n",
              "    }\n",
              "</style>\n",
              "<table border=\"1\" class=\"dataframe\">\n",
              "  <thead>\n",
              "    <tr style=\"text-align: right;\">\n",
              "      <th></th>\n",
              "      <th>ID</th>\n",
              "      <th>LIMIT_BAL</th>\n",
              "      <th>SEX</th>\n",
              "      <th>EDUCATION</th>\n",
              "      <th>MARRIAGE</th>\n",
              "      <th>AGE</th>\n",
              "      <th>PAY_1</th>\n",
              "      <th>PAY_2</th>\n",
              "      <th>PAY_3</th>\n",
              "      <th>PAY_4</th>\n",
              "      <th>PAY_5</th>\n",
              "      <th>PAY_6</th>\n",
              "      <th>BILL_AMT1</th>\n",
              "      <th>BILL_AMT2</th>\n",
              "      <th>BILL_AMT3</th>\n",
              "      <th>BILL_AMT4</th>\n",
              "      <th>BILL_AMT5</th>\n",
              "      <th>BILL_AMT6</th>\n",
              "      <th>PAY_AMT1</th>\n",
              "      <th>PAY_AMT2</th>\n",
              "      <th>PAY_AMT3</th>\n",
              "      <th>PAY_AMT4</th>\n",
              "      <th>PAY_AMT5</th>\n",
              "      <th>PAY_AMT6</th>\n",
              "      <th>DEFAULT</th>\n",
              "    </tr>\n",
              "  </thead>\n",
              "  <tbody>\n",
              "    <tr>\n",
              "      <th>count</th>\n",
              "      <td>30000.000000</td>\n",
              "      <td>30000.000000</td>\n",
              "      <td>30000.000000</td>\n",
              "      <td>30000.000000</td>\n",
              "      <td>30000.000000</td>\n",
              "      <td>30000.000000</td>\n",
              "      <td>30000.000000</td>\n",
              "      <td>30000.000000</td>\n",
              "      <td>30000.000000</td>\n",
              "      <td>30000.000000</td>\n",
              "      <td>30000.000000</td>\n",
              "      <td>30000.000000</td>\n",
              "      <td>30000.000000</td>\n",
              "      <td>30000.000000</td>\n",
              "      <td>3.000000e+04</td>\n",
              "      <td>30000.000000</td>\n",
              "      <td>30000.000000</td>\n",
              "      <td>30000.000000</td>\n",
              "      <td>30000.000000</td>\n",
              "      <td>3.000000e+04</td>\n",
              "      <td>30000.00000</td>\n",
              "      <td>30000.000000</td>\n",
              "      <td>30000.000000</td>\n",
              "      <td>30000.000000</td>\n",
              "      <td>30000.000000</td>\n",
              "    </tr>\n",
              "    <tr>\n",
              "      <th>mean</th>\n",
              "      <td>15000.500000</td>\n",
              "      <td>167484.322667</td>\n",
              "      <td>1.603733</td>\n",
              "      <td>1.853133</td>\n",
              "      <td>1.551867</td>\n",
              "      <td>35.485500</td>\n",
              "      <td>-0.016700</td>\n",
              "      <td>-0.133767</td>\n",
              "      <td>-0.166200</td>\n",
              "      <td>-0.220667</td>\n",
              "      <td>-0.266200</td>\n",
              "      <td>-0.291100</td>\n",
              "      <td>51223.330900</td>\n",
              "      <td>49179.075167</td>\n",
              "      <td>4.701315e+04</td>\n",
              "      <td>43262.948967</td>\n",
              "      <td>40311.400967</td>\n",
              "      <td>38871.760400</td>\n",
              "      <td>5663.580500</td>\n",
              "      <td>5.921163e+03</td>\n",
              "      <td>5225.68150</td>\n",
              "      <td>4826.076867</td>\n",
              "      <td>4799.387633</td>\n",
              "      <td>5215.502567</td>\n",
              "      <td>0.221200</td>\n",
              "    </tr>\n",
              "    <tr>\n",
              "      <th>std</th>\n",
              "      <td>8660.398374</td>\n",
              "      <td>129747.661567</td>\n",
              "      <td>0.489129</td>\n",
              "      <td>0.790349</td>\n",
              "      <td>0.521970</td>\n",
              "      <td>9.217904</td>\n",
              "      <td>1.123802</td>\n",
              "      <td>1.197186</td>\n",
              "      <td>1.196868</td>\n",
              "      <td>1.169139</td>\n",
              "      <td>1.133187</td>\n",
              "      <td>1.149988</td>\n",
              "      <td>73635.860576</td>\n",
              "      <td>71173.768783</td>\n",
              "      <td>6.934939e+04</td>\n",
              "      <td>64332.856134</td>\n",
              "      <td>60797.155770</td>\n",
              "      <td>59554.107537</td>\n",
              "      <td>16563.280354</td>\n",
              "      <td>2.304087e+04</td>\n",
              "      <td>17606.96147</td>\n",
              "      <td>15666.159744</td>\n",
              "      <td>15278.305679</td>\n",
              "      <td>17777.465775</td>\n",
              "      <td>0.415062</td>\n",
              "    </tr>\n",
              "    <tr>\n",
              "      <th>min</th>\n",
              "      <td>1.000000</td>\n",
              "      <td>10000.000000</td>\n",
              "      <td>1.000000</td>\n",
              "      <td>0.000000</td>\n",
              "      <td>0.000000</td>\n",
              "      <td>21.000000</td>\n",
              "      <td>-2.000000</td>\n",
              "      <td>-2.000000</td>\n",
              "      <td>-2.000000</td>\n",
              "      <td>-2.000000</td>\n",
              "      <td>-2.000000</td>\n",
              "      <td>-2.000000</td>\n",
              "      <td>-165580.000000</td>\n",
              "      <td>-69777.000000</td>\n",
              "      <td>-1.572640e+05</td>\n",
              "      <td>-170000.000000</td>\n",
              "      <td>-81334.000000</td>\n",
              "      <td>-339603.000000</td>\n",
              "      <td>0.000000</td>\n",
              "      <td>0.000000e+00</td>\n",
              "      <td>0.00000</td>\n",
              "      <td>0.000000</td>\n",
              "      <td>0.000000</td>\n",
              "      <td>0.000000</td>\n",
              "      <td>0.000000</td>\n",
              "    </tr>\n",
              "    <tr>\n",
              "      <th>25%</th>\n",
              "      <td>7500.750000</td>\n",
              "      <td>50000.000000</td>\n",
              "      <td>1.000000</td>\n",
              "      <td>1.000000</td>\n",
              "      <td>1.000000</td>\n",
              "      <td>28.000000</td>\n",
              "      <td>-1.000000</td>\n",
              "      <td>-1.000000</td>\n",
              "      <td>-1.000000</td>\n",
              "      <td>-1.000000</td>\n",
              "      <td>-1.000000</td>\n",
              "      <td>-1.000000</td>\n",
              "      <td>3558.750000</td>\n",
              "      <td>2984.750000</td>\n",
              "      <td>2.666250e+03</td>\n",
              "      <td>2326.750000</td>\n",
              "      <td>1763.000000</td>\n",
              "      <td>1256.000000</td>\n",
              "      <td>1000.000000</td>\n",
              "      <td>8.330000e+02</td>\n",
              "      <td>390.00000</td>\n",
              "      <td>296.000000</td>\n",
              "      <td>252.500000</td>\n",
              "      <td>117.750000</td>\n",
              "      <td>0.000000</td>\n",
              "    </tr>\n",
              "    <tr>\n",
              "      <th>50%</th>\n",
              "      <td>15000.500000</td>\n",
              "      <td>140000.000000</td>\n",
              "      <td>2.000000</td>\n",
              "      <td>2.000000</td>\n",
              "      <td>2.000000</td>\n",
              "      <td>34.000000</td>\n",
              "      <td>0.000000</td>\n",
              "      <td>0.000000</td>\n",
              "      <td>0.000000</td>\n",
              "      <td>0.000000</td>\n",
              "      <td>0.000000</td>\n",
              "      <td>0.000000</td>\n",
              "      <td>22381.500000</td>\n",
              "      <td>21200.000000</td>\n",
              "      <td>2.008850e+04</td>\n",
              "      <td>19052.000000</td>\n",
              "      <td>18104.500000</td>\n",
              "      <td>17071.000000</td>\n",
              "      <td>2100.000000</td>\n",
              "      <td>2.009000e+03</td>\n",
              "      <td>1800.00000</td>\n",
              "      <td>1500.000000</td>\n",
              "      <td>1500.000000</td>\n",
              "      <td>1500.000000</td>\n",
              "      <td>0.000000</td>\n",
              "    </tr>\n",
              "    <tr>\n",
              "      <th>75%</th>\n",
              "      <td>22500.250000</td>\n",
              "      <td>240000.000000</td>\n",
              "      <td>2.000000</td>\n",
              "      <td>2.000000</td>\n",
              "      <td>2.000000</td>\n",
              "      <td>41.000000</td>\n",
              "      <td>0.000000</td>\n",
              "      <td>0.000000</td>\n",
              "      <td>0.000000</td>\n",
              "      <td>0.000000</td>\n",
              "      <td>0.000000</td>\n",
              "      <td>0.000000</td>\n",
              "      <td>67091.000000</td>\n",
              "      <td>64006.250000</td>\n",
              "      <td>6.016475e+04</td>\n",
              "      <td>54506.000000</td>\n",
              "      <td>50190.500000</td>\n",
              "      <td>49198.250000</td>\n",
              "      <td>5006.000000</td>\n",
              "      <td>5.000000e+03</td>\n",
              "      <td>4505.00000</td>\n",
              "      <td>4013.250000</td>\n",
              "      <td>4031.500000</td>\n",
              "      <td>4000.000000</td>\n",
              "      <td>0.000000</td>\n",
              "    </tr>\n",
              "    <tr>\n",
              "      <th>max</th>\n",
              "      <td>30000.000000</td>\n",
              "      <td>1000000.000000</td>\n",
              "      <td>2.000000</td>\n",
              "      <td>6.000000</td>\n",
              "      <td>3.000000</td>\n",
              "      <td>79.000000</td>\n",
              "      <td>8.000000</td>\n",
              "      <td>8.000000</td>\n",
              "      <td>8.000000</td>\n",
              "      <td>8.000000</td>\n",
              "      <td>8.000000</td>\n",
              "      <td>8.000000</td>\n",
              "      <td>964511.000000</td>\n",
              "      <td>983931.000000</td>\n",
              "      <td>1.664089e+06</td>\n",
              "      <td>891586.000000</td>\n",
              "      <td>927171.000000</td>\n",
              "      <td>961664.000000</td>\n",
              "      <td>873552.000000</td>\n",
              "      <td>1.684259e+06</td>\n",
              "      <td>896040.00000</td>\n",
              "      <td>621000.000000</td>\n",
              "      <td>426529.000000</td>\n",
              "      <td>528666.000000</td>\n",
              "      <td>1.000000</td>\n",
              "    </tr>\n",
              "  </tbody>\n",
              "</table>\n",
              "</div>"
            ],
            "text/plain": [
              "                 ID       LIMIT_BAL           SEX     EDUCATION      MARRIAGE  \\\n",
              "count  30000.000000    30000.000000  30000.000000  30000.000000  30000.000000   \n",
              "mean   15000.500000   167484.322667      1.603733      1.853133      1.551867   \n",
              "std     8660.398374   129747.661567      0.489129      0.790349      0.521970   \n",
              "min        1.000000    10000.000000      1.000000      0.000000      0.000000   \n",
              "25%     7500.750000    50000.000000      1.000000      1.000000      1.000000   \n",
              "50%    15000.500000   140000.000000      2.000000      2.000000      2.000000   \n",
              "75%    22500.250000   240000.000000      2.000000      2.000000      2.000000   \n",
              "max    30000.000000  1000000.000000      2.000000      6.000000      3.000000   \n",
              "\n",
              "                AGE         PAY_1         PAY_2         PAY_3         PAY_4  \\\n",
              "count  30000.000000  30000.000000  30000.000000  30000.000000  30000.000000   \n",
              "mean      35.485500     -0.016700     -0.133767     -0.166200     -0.220667   \n",
              "std        9.217904      1.123802      1.197186      1.196868      1.169139   \n",
              "min       21.000000     -2.000000     -2.000000     -2.000000     -2.000000   \n",
              "25%       28.000000     -1.000000     -1.000000     -1.000000     -1.000000   \n",
              "50%       34.000000      0.000000      0.000000      0.000000      0.000000   \n",
              "75%       41.000000      0.000000      0.000000      0.000000      0.000000   \n",
              "max       79.000000      8.000000      8.000000      8.000000      8.000000   \n",
              "\n",
              "              PAY_5         PAY_6      BILL_AMT1      BILL_AMT2     BILL_AMT3  \\\n",
              "count  30000.000000  30000.000000   30000.000000   30000.000000  3.000000e+04   \n",
              "mean      -0.266200     -0.291100   51223.330900   49179.075167  4.701315e+04   \n",
              "std        1.133187      1.149988   73635.860576   71173.768783  6.934939e+04   \n",
              "min       -2.000000     -2.000000 -165580.000000  -69777.000000 -1.572640e+05   \n",
              "25%       -1.000000     -1.000000    3558.750000    2984.750000  2.666250e+03   \n",
              "50%        0.000000      0.000000   22381.500000   21200.000000  2.008850e+04   \n",
              "75%        0.000000      0.000000   67091.000000   64006.250000  6.016475e+04   \n",
              "max        8.000000      8.000000  964511.000000  983931.000000  1.664089e+06   \n",
              "\n",
              "           BILL_AMT4      BILL_AMT5      BILL_AMT6       PAY_AMT1  \\\n",
              "count   30000.000000   30000.000000   30000.000000   30000.000000   \n",
              "mean    43262.948967   40311.400967   38871.760400    5663.580500   \n",
              "std     64332.856134   60797.155770   59554.107537   16563.280354   \n",
              "min   -170000.000000  -81334.000000 -339603.000000       0.000000   \n",
              "25%      2326.750000    1763.000000    1256.000000    1000.000000   \n",
              "50%     19052.000000   18104.500000   17071.000000    2100.000000   \n",
              "75%     54506.000000   50190.500000   49198.250000    5006.000000   \n",
              "max    891586.000000  927171.000000  961664.000000  873552.000000   \n",
              "\n",
              "           PAY_AMT2      PAY_AMT3       PAY_AMT4       PAY_AMT5  \\\n",
              "count  3.000000e+04   30000.00000   30000.000000   30000.000000   \n",
              "mean   5.921163e+03    5225.68150    4826.076867    4799.387633   \n",
              "std    2.304087e+04   17606.96147   15666.159744   15278.305679   \n",
              "min    0.000000e+00       0.00000       0.000000       0.000000   \n",
              "25%    8.330000e+02     390.00000     296.000000     252.500000   \n",
              "50%    2.009000e+03    1800.00000    1500.000000    1500.000000   \n",
              "75%    5.000000e+03    4505.00000    4013.250000    4031.500000   \n",
              "max    1.684259e+06  896040.00000  621000.000000  426529.000000   \n",
              "\n",
              "            PAY_AMT6       DEFAULT  \n",
              "count   30000.000000  30000.000000  \n",
              "mean     5215.502567      0.221200  \n",
              "std     17777.465775      0.415062  \n",
              "min         0.000000      0.000000  \n",
              "25%       117.750000      0.000000  \n",
              "50%      1500.000000      0.000000  \n",
              "75%      4000.000000      0.000000  \n",
              "max    528666.000000      1.000000  "
            ]
          },
          "metadata": {
            "tags": []
          },
          "execution_count": 75
        }
      ]
    },
    {
      "cell_type": "markdown",
      "metadata": {
        "id": "1tToyvoQ98n9",
        "colab_type": "text"
      },
      "source": [
        "## Univariate Analysis"
      ]
    },
    {
      "cell_type": "markdown",
      "metadata": {
        "id": "Wi78OerO9_Rp",
        "colab_type": "text"
      },
      "source": [
        "## 1. Default(Target Variable)"
      ]
    },
    {
      "cell_type": "code",
      "metadata": {
        "id": "KUbiJ29W9xIS",
        "colab_type": "code",
        "colab": {
          "base_uri": "https://localhost:8080/",
          "height": 334
        },
        "outputId": "d683979b-619c-47d7-9f58-930afdeabb3f"
      },
      "source": [
        "sns.countplot(data.DEFAULT)\n",
        "plt.xlabel(\"Defaulters\")\n",
        "plt.ylabel(\"Number of Customers\")\n",
        "data.DEFAULT.value_counts(\"&\")"
      ],
      "execution_count": 76,
      "outputs": [
        {
          "output_type": "execute_result",
          "data": {
            "text/plain": [
              "0    0.7788\n",
              "1    0.2212\n",
              "Name: DEFAULT, dtype: float64"
            ]
          },
          "metadata": {
            "tags": []
          },
          "execution_count": 76
        },
        {
          "output_type": "display_data",
          "data": {
            "image/png": "[encoded data removed]",
            "text/plain": [
              "<Figure size 432x288 with 1 Axes>"
            ]
          },
          "metadata": {
            "tags": []
          }
        }
      ]
    },
    {
      "cell_type": "markdown",
      "metadata": {
        "id": "ynYKW323-dYl",
        "colab_type": "text"
      },
      "source": [
        "## Percentage of people defaulting is 22.12%\n"
      ]
    },
    {
      "cell_type": "markdown",
      "metadata": {
        "id": "PNjRgTHc-iLv",
        "colab_type": "text"
      },
      "source": [
        "## 2. SEX"
      ]
    },
    {
      "cell_type": "code",
      "metadata": {
        "id": "Q6G1BF2t-kRd",
        "colab_type": "code",
        "colab": {
          "base_uri": "https://localhost:8080/",
          "height": 334
        },
        "outputId": "dcdde5cc-bd42-47c6-9720-bb227cc55ad1"
      },
      "source": [
        "sns.countplot(data.SEX)\n",
        "data.SEX.value_counts(\"%\")"
      ],
      "execution_count": 77,
      "outputs": [
        {
          "output_type": "execute_result",
          "data": {
            "text/plain": [
              "2    0.603733\n",
              "1    0.396267\n",
              "Name: SEX, dtype: float64"
            ]
          },
          "metadata": {
            "tags": []
          },
          "execution_count": 77
        },
        {
          "output_type": "display_data",
          "data": {
            "image/png": "[encoded data removed]",
            "text/plain": [
              "<Figure size 432x288 with 1 Axes>"
            ]
          },
          "metadata": {
            "tags": []
          }
        }
      ]
    },
    {
      "cell_type": "markdown",
      "metadata": {
        "id": "oTXUA3AU-yUM",
        "colab_type": "text"
      },
      "source": [
        "## 3. education\n",
        "(1 = graduate school; 2 = university; 3 = high school; 4 = others)"
      ]
    },
    {
      "cell_type": "code",
      "metadata": {
        "id": "8vSR28g3-zyX",
        "colab_type": "code",
        "colab": {
          "base_uri": "https://localhost:8080/",
          "height": 300
        },
        "outputId": "42e297bb-e044-4725-f034-5f509e5f6eb4"
      },
      "source": [
        "sns.countplot(data.EDUCATION)"
      ],
      "execution_count": 78,
      "outputs": [
        {
          "output_type": "execute_result",
          "data": {
            "text/plain": [
              "<matplotlib.axes._subplots.AxesSubplot at 0x7f922ca68668>"
            ]
          },
          "metadata": {
            "tags": []
          },
          "execution_count": 78
        },
        {
          "output_type": "display_data",
          "data": {
            "image/png": "[encoded data removed]",
            "text/plain": [
              "<Figure size 432x288 with 1 Axes>"
            ]
          },
          "metadata": {
            "tags": []
          }
        }
      ]
    },
    {
      "cell_type": "code",
      "metadata": {
        "id": "0CpqZrmf-65_",
        "colab_type": "code",
        "colab": {
          "base_uri": "https://localhost:8080/",
          "height": 300
        },
        "outputId": "55930ee3-c87b-435c-9944-403ec7e1fc3c"
      },
      "source": [
        "def edu(x):\n",
        "    if x>4 or x==0:\n",
        "        return(2)\n",
        "    else:\n",
        "        return(x)\n",
        "sns.countplot(data.EDUCATION.apply(edu))"
      ],
      "execution_count": 79,
      "outputs": [
        {
          "output_type": "execute_result",
          "data": {
            "text/plain": [
              "<matplotlib.axes._subplots.AxesSubplot at 0x7f922e9228d0>"
            ]
          },
          "metadata": {
            "tags": []
          },
          "execution_count": 79
        },
        {
          "output_type": "display_data",
          "data": {
            "image/png": "[encoded data removed]",
            "text/plain": [
              "<Figure size 432x288 with 1 Axes>"
            ]
          },
          "metadata": {
            "tags": []
          }
        }
      ]
    },
    {
      "cell_type": "code",
      "metadata": {
        "id": "xF9j-Cj8_FuR",
        "colab_type": "code",
        "colab": {}
      },
      "source": [
        "data.EDUCATION=data.EDUCATION.apply(edu)"
      ],
      "execution_count": 0,
      "outputs": []
    },
    {
      "cell_type": "markdown",
      "metadata": {
        "id": "vj8xFj9Yv4GI",
        "colab_type": "text"
      },
      "source": [
        "## **LIMIT BALANCE**"
      ]
    },
    {
      "cell_type": "code",
      "metadata": {
        "id": "31ckYQfrsMII",
        "colab_type": "code",
        "outputId": "2a55878d-1528-4dcb-96e6-3a7a8064f31d",
        "colab": {
          "base_uri": "https://localhost:8080/",
          "height": 301
        }
      },
      "source": [
        "sns.distplot(data.LIMIT_BAL)"
      ],
      "execution_count": 81,
      "outputs": [
        {
          "output_type": "execute_result",
          "data": {
            "text/plain": [
              "<matplotlib.axes._subplots.AxesSubplot at 0x7f922ca8c518>"
            ]
          },
          "metadata": {
            "tags": []
          },
          "execution_count": 81
        },
        {
          "output_type": "display_data",
          "data": {
            "image/png": "[encoded data removed]",
            "text/plain": [
              "<Figure size 432x288 with 1 Axes>"
            ]
          },
          "metadata": {
            "tags": []
          }
        }
      ]
    },
    {
      "cell_type": "code",
      "metadata": {
        "id": "weilV4nRwOm-",
        "colab_type": "code",
        "outputId": "aa1c4769-e874-4bce-a567-928fe5f91c6b",
        "colab": {
          "base_uri": "https://localhost:8080/",
          "height": 283
        }
      },
      "source": [
        "sm.qqplot(np.log(data.LIMIT_BAL),line='45')\n",
        "pylab.show()"
      ],
      "execution_count": 82,
      "outputs": [
        {
          "output_type": "display_data",
          "data": {
            "image/png": "[encoded data removed]",
            "text/plain": [
              "<Figure size 432x288 with 1 Axes>"
            ]
          },
          "metadata": {
            "tags": []
          }
        }
      ]
    },
    {
      "cell_type": "code",
      "metadata": {
        "id": "KQpoU2Nlw5Fq",
        "colab_type": "code",
        "outputId": "6f227695-2808-4f61-fe33-702cc03778d8",
        "colab": {
          "base_uri": "https://localhost:8080/",
          "height": 170
        }
      },
      "source": [
        "data.LIMIT_BAL.describe()"
      ],
      "execution_count": 83,
      "outputs": [
        {
          "output_type": "execute_result",
          "data": {
            "text/plain": [
              "count      30000.000000\n",
              "mean      167484.322667\n",
              "std       129747.661567\n",
              "min        10000.000000\n",
              "25%        50000.000000\n",
              "50%       140000.000000\n",
              "75%       240000.000000\n",
              "max      1000000.000000\n",
              "Name: LIMIT_BAL, dtype: float64"
            ]
          },
          "metadata": {
            "tags": []
          },
          "execution_count": 83
        }
      ]
    },
    {
      "cell_type": "code",
      "metadata": {
        "id": "rEvzrCVJx0ra",
        "colab_type": "code",
        "colab": {}
      },
      "source": [
        "q1=50000.00\n",
        "q3=240000.00\n",
        "iqr=q3-q1\n",
        "ul=q3+(1.5*iqr)\n",
        "ll=q1-(1.5*iqr)"
      ],
      "execution_count": 0,
      "outputs": []
    },
    {
      "cell_type": "code",
      "metadata": {
        "id": "RoOz5e55yG7J",
        "colab_type": "code",
        "outputId": "326621ff-a142-49bf-bc56-4b1213f5357a",
        "colab": {
          "base_uri": "https://localhost:8080/",
          "height": 34
        }
      },
      "source": [
        "(len(data[data.LIMIT_BAL>ul])/30000)*100"
      ],
      "execution_count": 85,
      "outputs": [
        {
          "output_type": "execute_result",
          "data": {
            "text/plain": [
              "0.5566666666666666"
            ]
          },
          "metadata": {
            "tags": []
          },
          "execution_count": 85
        }
      ]
    },
    {
      "cell_type": "code",
      "metadata": {
        "id": "ZJgZvYJYyIeX",
        "colab_type": "code",
        "colab": {}
      },
      "source": [
        "#since the outliers present in the Limit bakance variable is 0.5% therefore we will cap the outliers"
      ],
      "execution_count": 0,
      "outputs": []
    },
    {
      "cell_type": "code",
      "metadata": {
        "id": "X1TaDxxqzELr",
        "colab_type": "code",
        "outputId": "756dedd3-fa91-454e-97bb-fd103cb745d1",
        "colab": {
          "base_uri": "https://localhost:8080/",
          "height": 301
        }
      },
      "source": [
        "def limit_bal(x):\n",
        "  if x>ul:\n",
        "    return(ul)\n",
        "  else:\n",
        "    return(x)\n",
        "sns.distplot(data.LIMIT_BAL.apply(limit_bal))"
      ],
      "execution_count": 87,
      "outputs": [
        {
          "output_type": "execute_result",
          "data": {
            "text/plain": [
              "<matplotlib.axes._subplots.AxesSubplot at 0x7f922e737828>"
            ]
          },
          "metadata": {
            "tags": []
          },
          "execution_count": 87
        },
        {
          "output_type": "display_data",
          "data": {
            "image/png": "[encoded data removed]",
            "text/plain": [
              "<Figure size 432x288 with 1 Axes>"
            ]
          },
          "metadata": {
            "tags": []
          }
        }
      ]
    },
    {
      "cell_type": "code",
      "metadata": {
        "id": "mA4JvycfzSDA",
        "colab_type": "code",
        "colab": {}
      },
      "source": [
        "data.LIMIT_BAL=data.LIMIT_BAL.apply(limit_bal)"
      ],
      "execution_count": 0,
      "outputs": []
    },
    {
      "cell_type": "code",
      "metadata": {
        "id": "_GxnVG7czYdP",
        "colab_type": "code",
        "outputId": "bcc046c8-027e-49e4-cda8-82c9f260cbb8",
        "colab": {
          "base_uri": "https://localhost:8080/",
          "height": 301
        }
      },
      "source": [
        "sns.distplot(np.log(data.LIMIT_BAL+0.01))"
      ],
      "execution_count": 89,
      "outputs": [
        {
          "output_type": "execute_result",
          "data": {
            "text/plain": [
              "<matplotlib.axes._subplots.AxesSubplot at 0x7f922e73ee48>"
            ]
          },
          "metadata": {
            "tags": []
          },
          "execution_count": 89
        },
        {
          "output_type": "display_data",
          "data": {
            "image/png": "[encoded data removed]",
            "text/plain": [
              "<Figure size 432x288 with 1 Axes>"
            ]
          },
          "metadata": {
            "tags": []
          }
        }
      ]
    },
    {
      "cell_type": "markdown",
      "metadata": {
        "id": "xSyNh6oO0QFq",
        "colab_type": "text"
      },
      "source": [
        "## Marriage\n",
        "(1 = married; 2 = single; 3 = others)"
      ]
    },
    {
      "cell_type": "code",
      "metadata": {
        "id": "ZVUAtoy_0OyX",
        "colab_type": "code",
        "outputId": "b251b69d-cb9c-497b-a9be-05c3023ca909",
        "colab": {
          "base_uri": "https://localhost:8080/",
          "height": 300
        }
      },
      "source": [
        "sns.countplot(data.MARRIAGE)"
      ],
      "execution_count": 90,
      "outputs": [
        {
          "output_type": "execute_result",
          "data": {
            "text/plain": [
              "<matplotlib.axes._subplots.AxesSubplot at 0x7f922e7379e8>"
            ]
          },
          "metadata": {
            "tags": []
          },
          "execution_count": 90
        },
        {
          "output_type": "display_data",
          "data": {
            "image/png": "[encoded data removed]",
            "text/plain": [
              "<Figure size 432x288 with 1 Axes>"
            ]
          },
          "metadata": {
            "tags": []
          }
        }
      ]
    },
    {
      "cell_type": "code",
      "metadata": {
        "id": "SdnskvDu0Wyp",
        "colab_type": "code",
        "colab": {}
      },
      "source": [
        "# replacing 0 class with the majority class\n",
        "data.MARRIAGE.replace(0,2,inplace=True)"
      ],
      "execution_count": 0,
      "outputs": []
    },
    {
      "cell_type": "markdown",
      "metadata": {
        "id": "xqJI6G7f0kLq",
        "colab_type": "text"
      },
      "source": [
        "## AGE"
      ]
    },
    {
      "cell_type": "code",
      "metadata": {
        "id": "y6DyX19V0eLK",
        "colab_type": "code",
        "outputId": "99ab1188-0674-4afe-88bb-3473c1f0552c",
        "colab": {
          "base_uri": "https://localhost:8080/",
          "height": 300
        }
      },
      "source": [
        "sns.distplot(data.AGE)"
      ],
      "execution_count": 92,
      "outputs": [
        {
          "output_type": "execute_result",
          "data": {
            "text/plain": [
              "<matplotlib.axes._subplots.AxesSubplot at 0x7f922c746a58>"
            ]
          },
          "metadata": {
            "tags": []
          },
          "execution_count": 92
        },
        {
          "output_type": "display_data",
          "data": {
            "image/png": "[encoded data removed]",
            "text/plain": [
              "<Figure size 432x288 with 1 Axes>"
            ]
          },
          "metadata": {
            "tags": []
          }
        }
      ]
    },
    {
      "cell_type": "code",
      "metadata": {
        "id": "NMa-LqHj0oSR",
        "colab_type": "code",
        "outputId": "399aa3ae-0cbc-488d-8fb8-e93b5bc28927",
        "colab": {
          "base_uri": "https://localhost:8080/",
          "height": 549
        }
      },
      "source": [
        "sm.qqplot(data.AGE,line=\"45\")"
      ],
      "execution_count": 93,
      "outputs": [
        {
          "output_type": "execute_result",
          "data": {
            "image/png": "[encoded data removed]",
            "text/plain": [
              "<Figure size 432x288 with 1 Axes>"
            ]
          },
          "metadata": {
            "tags": []
          },
          "execution_count": 93
        },
        {
          "output_type": "display_data",
          "data": {
            "image/png": "[encoded data removed]",
            "text/plain": [
              "<Figure size 432x288 with 1 Axes>"
            ]
          },
          "metadata": {
            "tags": []
          }
        }
      ]
    },
    {
      "cell_type": "code",
      "metadata": {
        "id": "HoaeRBHr0u2H",
        "colab_type": "code",
        "outputId": "169f28ac-3645-4fdc-a8cc-130de88311ba",
        "colab": {
          "base_uri": "https://localhost:8080/",
          "height": 170
        }
      },
      "source": [
        "#binning the age variable\n",
        "data.AGE.describe()"
      ],
      "execution_count": 94,
      "outputs": [
        {
          "output_type": "execute_result",
          "data": {
            "text/plain": [
              "count    30000.000000\n",
              "mean        35.485500\n",
              "std          9.217904\n",
              "min         21.000000\n",
              "25%         28.000000\n",
              "50%         34.000000\n",
              "75%         41.000000\n",
              "max         79.000000\n",
              "Name: AGE, dtype: float64"
            ]
          },
          "metadata": {
            "tags": []
          },
          "execution_count": 94
        }
      ]
    },
    {
      "cell_type": "code",
      "metadata": {
        "id": "vTLbyzj-15zr",
        "colab_type": "code",
        "outputId": "1dbe8dfa-6d68-429b-b089-baa034a73959",
        "colab": {
          "base_uri": "https://localhost:8080/",
          "height": 300
        }
      },
      "source": [
        "def age(x):\n",
        "  if x<28:\n",
        "    return(1)\n",
        "  elif x>=28 and x<34:\n",
        "    return(2)\n",
        "  elif x>=34 and x<41:\n",
        "    return(3)\n",
        "  elif x>=41:\n",
        "    return(4)\n",
        "sns.countplot(data.AGE.apply(age))"
      ],
      "execution_count": 95,
      "outputs": [
        {
          "output_type": "execute_result",
          "data": {
            "text/plain": [
              "<matplotlib.axes._subplots.AxesSubplot at 0x7f922c55cb70>"
            ]
          },
          "metadata": {
            "tags": []
          },
          "execution_count": 95
        },
        {
          "output_type": "display_data",
          "data": {
            "image/png": "[encoded data removed]",
            "text/plain": [
              "<Figure size 432x288 with 1 Axes>"
            ]
          },
          "metadata": {
            "tags": []
          }
        }
      ]
    },
    {
      "cell_type": "code",
      "metadata": {
        "id": "nXlESjuf2W4v",
        "colab_type": "code",
        "colab": {}
      },
      "source": [
        "data.AGE=data.AGE.apply(age)"
      ],
      "execution_count": 0,
      "outputs": []
    },
    {
      "cell_type": "markdown",
      "metadata": {
        "id": "PRXGYgdJ2q41",
        "colab_type": "text"
      },
      "source": [
        "## PAY_X\n"
      ]
    },
    {
      "cell_type": "code",
      "metadata": {
        "id": "DJkUR0Ba2kMv",
        "colab_type": "code",
        "outputId": "991b95e5-fc03-4edc-d665-f5401f740c29",
        "colab": {
          "base_uri": "https://localhost:8080/",
          "height": 102
        }
      },
      "source": [
        "data.columns"
      ],
      "execution_count": 97,
      "outputs": [
        {
          "output_type": "execute_result",
          "data": {
            "text/plain": [
              "Index(['ID', 'LIMIT_BAL', 'SEX', 'EDUCATION', 'MARRIAGE', 'AGE', 'PAY_1',\n",
              "       'PAY_2', 'PAY_3', 'PAY_4', 'PAY_5', 'PAY_6', 'BILL_AMT1', 'BILL_AMT2',\n",
              "       'BILL_AMT3', 'BILL_AMT4', 'BILL_AMT5', 'BILL_AMT6', 'PAY_AMT1',\n",
              "       'PAY_AMT2', 'PAY_AMT3', 'PAY_AMT4', 'PAY_AMT5', 'PAY_AMT6', 'DEFAULT'],\n",
              "      dtype='object')"
            ]
          },
          "metadata": {
            "tags": []
          },
          "execution_count": 97
        }
      ]
    },
    {
      "cell_type": "code",
      "metadata": {
        "id": "h_7hcxU13C8A",
        "colab_type": "code",
        "outputId": "c75e6e2f-6283-4f8e-88e5-be32cce78a0f",
        "colab": {
          "base_uri": "https://localhost:8080/",
          "height": 204
        }
      },
      "source": [
        "data[['PAY_1','PAY_2', 'PAY_3', 'PAY_4', 'PAY_5', 'PAY_6',\"DEFAULT\"]].head()"
      ],
      "execution_count": 98,
      "outputs": [
        {
          "output_type": "execute_result",
          "data": {
            "text/html": [
              "<div>\n",
              "<style scoped>\n",
              "    .dataframe tbody tr th:only-of-type {\n",
              "        vertical-align: middle;\n",
              "    }\n",
              "\n",
              "    .dataframe tbody tr th {\n",
              "        vertical-align: top;\n",
              "    }\n",
              "\n",
              "    .dataframe thead th {\n",
              "        text-align: right;\n",
              "    }\n",
              "</style>\n",
              "<table border=\"1\" class=\"dataframe\">\n",
              "  <thead>\n",
              "    <tr style=\"text-align: right;\">\n",
              "      <th></th>\n",
              "      <th>PAY_1</th>\n",
              "      <th>PAY_2</th>\n",
              "      <th>PAY_3</th>\n",
              "      <th>PAY_4</th>\n",
              "      <th>PAY_5</th>\n",
              "      <th>PAY_6</th>\n",
              "      <th>DEFAULT</th>\n",
              "    </tr>\n",
              "  </thead>\n",
              "  <tbody>\n",
              "    <tr>\n",
              "      <th>0</th>\n",
              "      <td>2</td>\n",
              "      <td>2</td>\n",
              "      <td>-1</td>\n",
              "      <td>-1</td>\n",
              "      <td>-2</td>\n",
              "      <td>-2</td>\n",
              "      <td>1</td>\n",
              "    </tr>\n",
              "    <tr>\n",
              "      <th>1</th>\n",
              "      <td>-1</td>\n",
              "      <td>2</td>\n",
              "      <td>0</td>\n",
              "      <td>0</td>\n",
              "      <td>0</td>\n",
              "      <td>2</td>\n",
              "      <td>1</td>\n",
              "    </tr>\n",
              "    <tr>\n",
              "      <th>2</th>\n",
              "      <td>0</td>\n",
              "      <td>0</td>\n",
              "      <td>0</td>\n",
              "      <td>0</td>\n",
              "      <td>0</td>\n",
              "      <td>0</td>\n",
              "      <td>0</td>\n",
              "    </tr>\n",
              "    <tr>\n",
              "      <th>3</th>\n",
              "      <td>0</td>\n",
              "      <td>0</td>\n",
              "      <td>0</td>\n",
              "      <td>0</td>\n",
              "      <td>0</td>\n",
              "      <td>0</td>\n",
              "      <td>0</td>\n",
              "    </tr>\n",
              "    <tr>\n",
              "      <th>4</th>\n",
              "      <td>-1</td>\n",
              "      <td>0</td>\n",
              "      <td>-1</td>\n",
              "      <td>0</td>\n",
              "      <td>0</td>\n",
              "      <td>0</td>\n",
              "      <td>0</td>\n",
              "    </tr>\n",
              "  </tbody>\n",
              "</table>\n",
              "</div>"
            ],
            "text/plain": [
              "   PAY_1  PAY_2  PAY_3  PAY_4  PAY_5  PAY_6  DEFAULT\n",
              "0      2      2     -1     -1     -2     -2        1\n",
              "1     -1      2      0      0      0      2        1\n",
              "2      0      0      0      0      0      0        0\n",
              "3      0      0      0      0      0      0        0\n",
              "4     -1      0     -1      0      0      0        0"
            ]
          },
          "metadata": {
            "tags": []
          },
          "execution_count": 98
        }
      ]
    },
    {
      "cell_type": "code",
      "metadata": {
        "id": "tW-wbmBp3G0k",
        "colab_type": "code",
        "colab": {}
      },
      "source": [
        "newdata=data[(data.PAY_1==-1) & (data.PAY_2==-1)&(data.PAY_3==-1)&\n",
        "     (data.PAY_4==-1)&(data.PAY_5==-1)&(data.PAY_6==-1) & (data.DEFAULT==1)]"
      ],
      "execution_count": 0,
      "outputs": []
    },
    {
      "cell_type": "code",
      "metadata": {
        "id": "9ODm-KKy3b72",
        "colab_type": "code",
        "colab": {}
      },
      "source": [
        "newdata=data[(data.PAY_1==-1) & (data.PAY_2==-1)&(data.PAY_3==-1)&\n",
        "     (data.PAY_4==-1)&(data.PAY_5==-1)&(data.PAY_6==-1) & (data.DEFAULT==1)]\n",
        "def default(x):\n",
        "    ind=x[0]\n",
        "    default=x[1]\n",
        "    if ind in newdata.ID.values:\n",
        "        return(0)\n",
        "    else:\n",
        "        return(default)\n",
        "# Changing the label of the misclassified records to 0\n",
        "data['DEFAULT']=data[['ID',\"DEFAULT\"]].apply(default,axis=1)"
      ],
      "execution_count": 0,
      "outputs": []
    },
    {
      "cell_type": "code",
      "metadata": {
        "id": "HYyAPihd3sUY",
        "colab_type": "code",
        "outputId": "22f69a61-cbf6-49eb-ebc2-1013b88467e5",
        "colab": {
          "base_uri": "https://localhost:8080/",
          "height": 68
        }
      },
      "source": [
        "data.DEFAULT.value_counts(\"%\")"
      ],
      "execution_count": 101,
      "outputs": [
        {
          "output_type": "execute_result",
          "data": {
            "text/plain": [
              "0    0.788267\n",
              "1    0.211733\n",
              "Name: DEFAULT, dtype: float64"
            ]
          },
          "metadata": {
            "tags": []
          },
          "execution_count": 101
        }
      ]
    },
    {
      "cell_type": "code",
      "metadata": {
        "id": "uSRAdXAd3vfy",
        "colab_type": "code",
        "outputId": "f0d454ec-e62a-4dcf-b153-1abda0b4769c",
        "colab": {
          "base_uri": "https://localhost:8080/",
          "height": 301
        }
      },
      "source": [
        "sns.countplot(data.PAY_1)"
      ],
      "execution_count": 102,
      "outputs": [
        {
          "output_type": "execute_result",
          "data": {
            "text/plain": [
              "<matplotlib.axes._subplots.AxesSubplot at 0x7f922c4d9e10>"
            ]
          },
          "metadata": {
            "tags": []
          },
          "execution_count": 102
        },
        {
          "output_type": "display_data",
          "data": {
            "image/png": "[encoded data removed]",
            "text/plain": [
              "<Figure size 432x288 with 1 Axes>"
            ]
          },
          "metadata": {
            "tags": []
          }
        }
      ]
    },
    {
      "cell_type": "code",
      "metadata": {
        "id": "21J4IQY74X_L",
        "colab_type": "code",
        "colab": {}
      },
      "source": [
        "for i in ['PAY_1','PAY_2', 'PAY_3', 'PAY_4', 'PAY_5', 'PAY_6']:\n",
        "  data[i].replace(-2,0,inplace=True)\n",
        "  data[i].replace(-1,0,inplace=True)"
      ],
      "execution_count": 0,
      "outputs": []
    },
    {
      "cell_type": "code",
      "metadata": {
        "id": "M1xtMGKT5_Wf",
        "colab_type": "code",
        "outputId": "ecdca05f-5c40-4422-f31d-ecc2afea41db",
        "colab": {
          "base_uri": "https://localhost:8080/",
          "height": 301
        }
      },
      "source": [
        "sns.countplot(data.PAY_1)"
      ],
      "execution_count": 104,
      "outputs": [
        {
          "output_type": "execute_result",
          "data": {
            "text/plain": [
              "<matplotlib.axes._subplots.AxesSubplot at 0x7f922c445940>"
            ]
          },
          "metadata": {
            "tags": []
          },
          "execution_count": 104
        },
        {
          "output_type": "display_data",
          "data": {
            "image/png": "[encoded data removed]",
            "text/plain": [
              "<Figure size 432x288 with 1 Axes>"
            ]
          },
          "metadata": {
            "tags": []
          }
        }
      ]
    },
    {
      "cell_type": "code",
      "metadata": {
        "id": "PyojDGkw6Ate",
        "colab_type": "code",
        "outputId": "1411c5f6-3119-405d-f26a-1b5d8b2c5bef",
        "colab": {
          "base_uri": "https://localhost:8080/",
          "height": 359
        }
      },
      "source": [
        "pd.crosstab(data.PAY_1,data.DEFAULT)"
      ],
      "execution_count": 105,
      "outputs": [
        {
          "output_type": "execute_result",
          "data": {
            "text/html": [
              "<div>\n",
              "<style scoped>\n",
              "    .dataframe tbody tr th:only-of-type {\n",
              "        vertical-align: middle;\n",
              "    }\n",
              "\n",
              "    .dataframe tbody tr th {\n",
              "        vertical-align: top;\n",
              "    }\n",
              "\n",
              "    .dataframe thead th {\n",
              "        text-align: right;\n",
              "    }\n",
              "</style>\n",
              "<table border=\"1\" class=\"dataframe\">\n",
              "  <thead>\n",
              "    <tr style=\"text-align: right;\">\n",
              "      <th>DEFAULT</th>\n",
              "      <th>0</th>\n",
              "      <th>1</th>\n",
              "    </tr>\n",
              "    <tr>\n",
              "      <th>PAY_1</th>\n",
              "      <th></th>\n",
              "      <th></th>\n",
              "    </tr>\n",
              "  </thead>\n",
              "  <tbody>\n",
              "    <tr>\n",
              "      <th>0</th>\n",
              "      <td>20259</td>\n",
              "      <td>2923</td>\n",
              "    </tr>\n",
              "    <tr>\n",
              "      <th>1</th>\n",
              "      <td>2436</td>\n",
              "      <td>1252</td>\n",
              "    </tr>\n",
              "    <tr>\n",
              "      <th>2</th>\n",
              "      <td>823</td>\n",
              "      <td>1844</td>\n",
              "    </tr>\n",
              "    <tr>\n",
              "      <th>3</th>\n",
              "      <td>78</td>\n",
              "      <td>244</td>\n",
              "    </tr>\n",
              "    <tr>\n",
              "      <th>4</th>\n",
              "      <td>24</td>\n",
              "      <td>52</td>\n",
              "    </tr>\n",
              "    <tr>\n",
              "      <th>5</th>\n",
              "      <td>13</td>\n",
              "      <td>13</td>\n",
              "    </tr>\n",
              "    <tr>\n",
              "      <th>6</th>\n",
              "      <td>5</td>\n",
              "      <td>6</td>\n",
              "    </tr>\n",
              "    <tr>\n",
              "      <th>7</th>\n",
              "      <td>2</td>\n",
              "      <td>7</td>\n",
              "    </tr>\n",
              "    <tr>\n",
              "      <th>8</th>\n",
              "      <td>8</td>\n",
              "      <td>11</td>\n",
              "    </tr>\n",
              "  </tbody>\n",
              "</table>\n",
              "</div>"
            ],
            "text/plain": [
              "DEFAULT      0     1\n",
              "PAY_1               \n",
              "0        20259  2923\n",
              "1         2436  1252\n",
              "2          823  1844\n",
              "3           78   244\n",
              "4           24    52\n",
              "5           13    13\n",
              "6            5     6\n",
              "7            2     7\n",
              "8            8    11"
            ]
          },
          "metadata": {
            "tags": []
          },
          "execution_count": 105
        }
      ]
    },
    {
      "cell_type": "code",
      "metadata": {
        "id": "IbcVybJ568Yd",
        "colab_type": "code",
        "outputId": "480a6ff5-f550-4aaf-f5b1-13963fae2b63",
        "colab": {
          "base_uri": "https://localhost:8080/",
          "height": 301
        }
      },
      "source": [
        "sns.countplot(data.PAY_1)"
      ],
      "execution_count": 106,
      "outputs": [
        {
          "output_type": "execute_result",
          "data": {
            "text/plain": [
              "<matplotlib.axes._subplots.AxesSubplot at 0x7f922c3b57b8>"
            ]
          },
          "metadata": {
            "tags": []
          },
          "execution_count": 106
        },
        {
          "output_type": "display_data",
          "data": {
            "image/png": "[encoded data removed]",
            "text/plain": [
              "<Figure size 432x288 with 1 Axes>"
            ]
          },
          "metadata": {
            "tags": []
          }
        }
      ]
    },
    {
      "cell_type": "markdown",
      "metadata": {
        "id": "C3H8X9mY7JCq",
        "colab_type": "text"
      },
      "source": [
        "## Bill Amount"
      ]
    },
    {
      "cell_type": "code",
      "metadata": {
        "id": "rNRVGHMnAKxf",
        "colab_type": "code",
        "colab": {
          "base_uri": "https://localhost:8080/",
          "height": 102
        },
        "outputId": "97406707-0ace-4104-bd37-92a688bf391f"
      },
      "source": [
        "data.columns"
      ],
      "execution_count": 107,
      "outputs": [
        {
          "output_type": "execute_result",
          "data": {
            "text/plain": [
              "Index(['ID', 'LIMIT_BAL', 'SEX', 'EDUCATION', 'MARRIAGE', 'AGE', 'PAY_1',\n",
              "       'PAY_2', 'PAY_3', 'PAY_4', 'PAY_5', 'PAY_6', 'BILL_AMT1', 'BILL_AMT2',\n",
              "       'BILL_AMT3', 'BILL_AMT4', 'BILL_AMT5', 'BILL_AMT6', 'PAY_AMT1',\n",
              "       'PAY_AMT2', 'PAY_AMT3', 'PAY_AMT4', 'PAY_AMT5', 'PAY_AMT6', 'DEFAULT'],\n",
              "      dtype='object')"
            ]
          },
          "metadata": {
            "tags": []
          },
          "execution_count": 107
        }
      ]
    },
    {
      "cell_type": "code",
      "metadata": {
        "id": "f7PZ918f7Ayt",
        "colab_type": "code",
        "outputId": "9a60b476-1407-4758-a23f-59382ce5052f",
        "colab": {
          "base_uri": "https://localhost:8080/",
          "height": 1000
        }
      },
      "source": [
        "for i in ['BILL_AMT1', 'BILL_AMT2',\n",
        "       'BILL_AMT3', 'BILL_AMT4', 'BILL_AMT5', 'BILL_AMT6']:\n",
        "  sns.distplot(data[i])\n",
        "  plt.show()"
      ],
      "execution_count": 108,
      "outputs": [
        {
          "output_type": "display_data",
          "data": {
            "image/png": "[encoded data removed]",
            "text/plain": [
              "<Figure size 432x288 with 1 Axes>"
            ]
          },
          "metadata": {
            "tags": []
          }
        },
        {
          "output_type": "display_data",
          "data": {
            "image/png": "[encoded data removed]",
            "text/plain": [
              "<Figure size 432x288 with 1 Axes>"
            ]
          },
          "metadata": {
            "tags": []
          }
        },
        {
          "output_type": "display_data",
          "data": {
            "image/png": "[encoded data removed]",
            "text/plain": [
              "<Figure size 432x288 with 1 Axes>"
            ]
          },
          "metadata": {
            "tags": []
          }
        },
        {
          "output_type": "display_data",
          "data": {
            "image/png": "[encoded data removed]",
            "text/plain": [
              "<Figure size 432x288 with 1 Axes>"
            ]
          },
          "metadata": {
            "tags": []
          }
        },
        {
          "output_type": "display_data",
          "data": {
            "image/png": "[encoded data removed]",
            "text/plain": [
              "<Figure size 432x288 with 1 Axes>"
            ]
          },
          "metadata": {
            "tags": []
          }
        },
        {
          "output_type": "display_data",
          "data": {
            "image/png": "[encoded data removed]",
            "text/plain": [
              "<Figure size 432x288 with 1 Axes>"
            ]
          },
          "metadata": {
            "tags": []
          }
        }
      ]
    },
    {
      "cell_type": "code",
      "metadata": {
        "id": "S2FO6kXG7OUn",
        "colab_type": "code",
        "outputId": "7a77baf1-5b20-4630-d02e-fb3dd08aec9f",
        "colab": {
          "base_uri": "https://localhost:8080/",
          "height": 170
        }
      },
      "source": [
        "data.BILL_AMT1.describe()"
      ],
      "execution_count": 109,
      "outputs": [
        {
          "output_type": "execute_result",
          "data": {
            "text/plain": [
              "count     30000.000000\n",
              "mean      51223.330900\n",
              "std       73635.860576\n",
              "min     -165580.000000\n",
              "25%        3558.750000\n",
              "50%       22381.500000\n",
              "75%       67091.000000\n",
              "max      964511.000000\n",
              "Name: BILL_AMT1, dtype: float64"
            ]
          },
          "metadata": {
            "tags": []
          },
          "execution_count": 109
        }
      ]
    },
    {
      "cell_type": "code",
      "metadata": {
        "id": "raFaZwDekEWM",
        "colab_type": "code",
        "colab": {}
      },
      "source": [
        "# treating the outliers\n",
        "def bill_amt(x):\n",
        "  if x>ul:\n",
        "    return(ul)\n",
        "  elif x<ll:\n",
        "    return(ll)\n",
        "  else:\n",
        "    return(x)\n",
        "for i in ['BILL_AMT1', 'BILL_AMT2','BILL_AMT3', 'BILL_AMT4', 'BILL_AMT5', 'BILL_AMT6']:\n",
        "  q1=data[i].quantile(0.25)\n",
        "  q3=data[i].quantile(0.75)\n",
        "  iqr=q3-q1\n",
        "  ul=q3+(1.5*iqr)\n",
        "  ll=q1-(1.5*iqr)\n",
        "  data[i]=data[i].apply(bill_amt)"
      ],
      "execution_count": 0,
      "outputs": []
    },
    {
      "cell_type": "code",
      "metadata": {
        "id": "e9dttdhd2eEG",
        "colab_type": "code",
        "outputId": "7a1a1bcb-0f62-4ba3-c6e6-5eee0d6171c5",
        "colab": {
          "base_uri": "https://localhost:8080/",
          "height": 301
        }
      },
      "source": [
        "sns.boxplot(data.BILL_AMT1)"
      ],
      "execution_count": 111,
      "outputs": [
        {
          "output_type": "execute_result",
          "data": {
            "text/plain": [
              "<matplotlib.axes._subplots.AxesSubplot at 0x7f922c9f37f0>"
            ]
          },
          "metadata": {
            "tags": []
          },
          "execution_count": 111
        },
        {
          "output_type": "display_data",
          "data": {
            "image/png": "[encoded data removed]",
            "text/plain": [
              "<Figure size 432x288 with 1 Axes>"
            ]
          },
          "metadata": {
            "tags": []
          }
        }
      ]
    },
    {
      "cell_type": "markdown",
      "metadata": {
        "id": "h-jvA8ThAxC6",
        "colab_type": "text"
      },
      "source": [
        "## PAY_AMT"
      ]
    },
    {
      "cell_type": "code",
      "metadata": {
        "id": "qSFJhlTHAtEu",
        "colab_type": "code",
        "outputId": "a8ff3f3f-dfaa-416e-d374-4fc42255d01f",
        "colab": {
          "base_uri": "https://localhost:8080/",
          "height": 1000
        }
      },
      "source": [
        "for i in ['PAY_AMT1',\n",
        "       'PAY_AMT2', 'PAY_AMT3', 'PAY_AMT4', 'PAY_AMT5', 'PAY_AMT6']:\n",
        "  sns.distplot(data[i])\n",
        "  plt.show()"
      ],
      "execution_count": 112,
      "outputs": [
        {
          "output_type": "display_data",
          "data": {
            "image/png": "[encoded data removed]",
            "text/plain": [
              "<Figure size 432x288 with 1 Axes>"
            ]
          },
          "metadata": {
            "tags": []
          }
        },
        {
          "output_type": "display_data",
          "data": {
            "image/png": "[encoded data removed]",
            "text/plain": [
              "<Figure size 432x288 with 1 Axes>"
            ]
          },
          "metadata": {
            "tags": []
          }
        },
        {
          "output_type": "display_data",
          "data": {
            "image/png": "[encoded data removed]",
            "text/plain": [
              "<Figure size 432x288 with 1 Axes>"
            ]
          },
          "metadata": {
            "tags": []
          }
        },
        {
          "output_type": "display_data",
          "data": {
            "image/png": "[encoded data removed]",
            "text/plain": [
              "<Figure size 432x288 with 1 Axes>"
            ]
          },
          "metadata": {
            "tags": []
          }
        },
        {
          "output_type": "display_data",
          "data": {
            "image/png": "[encoded data removed]",
            "text/plain": [
              "<Figure size 432x288 with 1 Axes>"
            ]
          },
          "metadata": {
            "tags": []
          }
        },
        {
          "output_type": "display_data",
          "data": {
            "image/png": "[encoded data removed]",
            "text/plain": [
              "<Figure size 432x288 with 1 Axes>"
            ]
          },
          "metadata": {
            "tags": []
          }
        }
      ]
    },
    {
      "cell_type": "code",
      "metadata": {
        "id": "pysU7pBh1K5z",
        "colab_type": "code",
        "outputId": "d2227063-137b-4316-cb48-b3322f3041d1",
        "colab": {
          "base_uri": "https://localhost:8080/",
          "height": 102
        }
      },
      "source": [
        "data.columns"
      ],
      "execution_count": 113,
      "outputs": [
        {
          "output_type": "execute_result",
          "data": {
            "text/plain": [
              "Index(['ID', 'LIMIT_BAL', 'SEX', 'EDUCATION', 'MARRIAGE', 'AGE', 'PAY_1',\n",
              "       'PAY_2', 'PAY_3', 'PAY_4', 'PAY_5', 'PAY_6', 'BILL_AMT1', 'BILL_AMT2',\n",
              "       'BILL_AMT3', 'BILL_AMT4', 'BILL_AMT5', 'BILL_AMT6', 'PAY_AMT1',\n",
              "       'PAY_AMT2', 'PAY_AMT3', 'PAY_AMT4', 'PAY_AMT5', 'PAY_AMT6', 'DEFAULT'],\n",
              "      dtype='object')"
            ]
          },
          "metadata": {
            "tags": []
          },
          "execution_count": 113
        }
      ]
    },
    {
      "cell_type": "code",
      "metadata": {
        "id": "iEiZ-5TW1VR6",
        "colab_type": "code",
        "colab": {}
      },
      "source": [
        "#treating the outliers\n",
        "def pay_amt(x):\n",
        "  if x>ul:\n",
        "    return(ul)\n",
        "  elif x<ll:\n",
        "    return(ll)\n",
        "  else:\n",
        "    return(x)\n",
        "for i in ['PAY_AMT1','PAY_AMT2', 'PAY_AMT3', 'PAY_AMT4', 'PAY_AMT5', 'PAY_AMT6']:\n",
        "  q1=data[i].quantile(0.25)\n",
        "  q3=data[i].quantile(0.75)\n",
        "  iqr=q3-q1\n",
        "  ul=q3+(1.5*iqr)\n",
        "  ll=q1-(1.5*iqr)\n",
        "  data[i]=data[i].apply(pay_amt)\n",
        "  "
      ],
      "execution_count": 0,
      "outputs": []
    },
    {
      "cell_type": "code",
      "metadata": {
        "id": "og7GHw4OAreu",
        "colab_type": "code",
        "colab": {
          "base_uri": "https://localhost:8080/",
          "height": 656
        },
        "outputId": "01390daa-64d3-444c-d8a3-55704642f362"
      },
      "source": [
        "continuous=['LIMIT_BAL', 'AGE', 'BILL_AMT1', 'BILL_AMT2','BILL_AMT3', 'BILL_AMT4', \n",
        "            'BILL_AMT5', 'BILL_AMT6', 'PAY_AMT1','PAY_AMT2', 'PAY_AMT3', 'PAY_AMT4', 'PAY_AMT5', 'PAY_AMT6']\n",
        "plt.figure(figsize=(12,10))\n",
        "sns.heatmap(data[continuous].corr(),annot=True)"
      ],
      "execution_count": 115,
      "outputs": [
        {
          "output_type": "execute_result",
          "data": {
            "text/plain": [
              "<matplotlib.axes._subplots.AxesSubplot at 0x7f922bf64d68>"
            ]
          },
          "metadata": {
            "tags": []
          },
          "execution_count": 115
        },
        {
          "output_type": "display_data",
          "data": {
            "image/png": "[encoded data removed]",
            "text/plain": [
              "<Figure size 864x720 with 2 Axes>"
            ]
          },
          "metadata": {
            "tags": []
          }
        }
      ]
    },
    {
      "cell_type": "markdown",
      "metadata": {
        "id": "6WcrGJz1BGPN",
        "colab_type": "text"
      },
      "source": [
        "## Report after univariate analysis of the variables:\n",
        "\n",
        "1.Majority of customers are non-defaulters.\n",
        "\n",
        "2.Majority of customers are females.\n",
        "\n",
        "3.More than 80% of the customers have either university or graduate school level of education.\n",
        "\n",
        "4.53.31% of the customers are single\n",
        "\n",
        "5.Presence of outliers in pay_amount, limit_balance, bill_amount.\n",
        "\n",
        "6.Undefined labels in repayment_staus, education, marriage"
      ]
    },
    {
      "cell_type": "markdown",
      "metadata": {
        "id": "2QuVYmcqBTS6",
        "colab_type": "text"
      },
      "source": [
        "## 2. Categorical Variables\n",
        "### To find the relationship between the categorical variables we can go for chi squared test,\n",
        "### taking alpha=0.05\n",
        "### Ho= No relationship between the variables\n",
        "### Ha= Dependency"
      ]
    },
    {
      "cell_type": "code",
      "metadata": {
        "id": "NKeunUJ4BWSO",
        "colab_type": "code",
        "colab": {
          "base_uri": "https://localhost:8080/",
          "height": 102
        },
        "outputId": "3be8785f-c37c-4b1d-cec3-81668f01239a"
      },
      "source": [
        "from scipy.stats import chi2_contingency\n",
        "data.columns"
      ],
      "execution_count": 116,
      "outputs": [
        {
          "output_type": "execute_result",
          "data": {
            "text/plain": [
              "Index(['ID', 'LIMIT_BAL', 'SEX', 'EDUCATION', 'MARRIAGE', 'AGE', 'PAY_1',\n",
              "       'PAY_2', 'PAY_3', 'PAY_4', 'PAY_5', 'PAY_6', 'BILL_AMT1', 'BILL_AMT2',\n",
              "       'BILL_AMT3', 'BILL_AMT4', 'BILL_AMT5', 'BILL_AMT6', 'PAY_AMT1',\n",
              "       'PAY_AMT2', 'PAY_AMT3', 'PAY_AMT4', 'PAY_AMT5', 'PAY_AMT6', 'DEFAULT'],\n",
              "      dtype='object')"
            ]
          },
          "metadata": {
            "tags": []
          },
          "execution_count": 116
        }
      ]
    },
    {
      "cell_type": "code",
      "metadata": {
        "id": "zlwLSVlDBZLU",
        "colab_type": "code",
        "colab": {}
      },
      "source": [
        "categorical=['SEX', 'EDUCATION', 'MARRIAGE','PAY_1',\n",
        "       'PAY_2', 'PAY_3', 'PAY_4', 'PAY_5', 'PAY_6','DEFAULT']"
      ],
      "execution_count": 0,
      "outputs": []
    },
    {
      "cell_type": "code",
      "metadata": {
        "id": "eHjLz-LjBpXW",
        "colab_type": "code",
        "colab": {}
      },
      "source": [
        "c1=[]\n",
        "c2=[]\n",
        "p_value=[]\n",
        "for i in categorical:\n",
        "    for j in categorical:\n",
        "        if i!=j:\n",
        "            stats,p,dof,expected=chi2_contingency(pd.crosstab(data[i],data[j]))\n",
        "            c1.append(i)\n",
        "            c2.append(j)\n",
        "            p_value.append(p)\n",
        "pval=pd.DataFrame({'Variable_1':c1,\"Variable_2\":c2,\"P_value\":p_value})"
      ],
      "execution_count": 0,
      "outputs": []
    },
    {
      "cell_type": "code",
      "metadata": {
        "id": "kNonzLZ9BuT1",
        "colab_type": "code",
        "colab": {
          "base_uri": "https://localhost:8080/",
          "height": 1000
        },
        "outputId": "43a7e0a9-12b2-4576-fff5-14e132292913"
      },
      "source": [
        "pval"
      ],
      "execution_count": 119,
      "outputs": [
        {
          "output_type": "execute_result",
          "data": {
            "text/html": [
              "<div>\n",
              "<style scoped>\n",
              "    .dataframe tbody tr th:only-of-type {\n",
              "        vertical-align: middle;\n",
              "    }\n",
              "\n",
              "    .dataframe tbody tr th {\n",
              "        vertical-align: top;\n",
              "    }\n",
              "\n",
              "    .dataframe thead th {\n",
              "        text-align: right;\n",
              "    }\n",
              "</style>\n",
              "<table border=\"1\" class=\"dataframe\">\n",
              "  <thead>\n",
              "    <tr style=\"text-align: right;\">\n",
              "      <th></th>\n",
              "      <th>Variable_1</th>\n",
              "      <th>Variable_2</th>\n",
              "      <th>P_value</th>\n",
              "    </tr>\n",
              "  </thead>\n",
              "  <tbody>\n",
              "    <tr>\n",
              "      <th>0</th>\n",
              "      <td>SEX</td>\n",
              "      <td>EDUCATION</td>\n",
              "      <td>2.448281e-05</td>\n",
              "    </tr>\n",
              "    <tr>\n",
              "      <th>1</th>\n",
              "      <td>SEX</td>\n",
              "      <td>MARRIAGE</td>\n",
              "      <td>8.893830e-07</td>\n",
              "    </tr>\n",
              "    <tr>\n",
              "      <th>2</th>\n",
              "      <td>SEX</td>\n",
              "      <td>PAY_1</td>\n",
              "      <td>1.108675e-07</td>\n",
              "    </tr>\n",
              "    <tr>\n",
              "      <th>3</th>\n",
              "      <td>SEX</td>\n",
              "      <td>PAY_2</td>\n",
              "      <td>9.658601e-12</td>\n",
              "    </tr>\n",
              "    <tr>\n",
              "      <th>4</th>\n",
              "      <td>SEX</td>\n",
              "      <td>PAY_3</td>\n",
              "      <td>3.728432e-11</td>\n",
              "    </tr>\n",
              "    <tr>\n",
              "      <th>5</th>\n",
              "      <td>SEX</td>\n",
              "      <td>PAY_4</td>\n",
              "      <td>1.161336e-10</td>\n",
              "    </tr>\n",
              "    <tr>\n",
              "      <th>6</th>\n",
              "      <td>SEX</td>\n",
              "      <td>PAY_5</td>\n",
              "      <td>1.668962e-09</td>\n",
              "    </tr>\n",
              "    <tr>\n",
              "      <th>7</th>\n",
              "      <td>SEX</td>\n",
              "      <td>PAY_6</td>\n",
              "      <td>2.597840e-06</td>\n",
              "    </tr>\n",
              "    <tr>\n",
              "      <th>8</th>\n",
              "      <td>SEX</td>\n",
              "      <td>DEFAULT</td>\n",
              "      <td>1.333994e-12</td>\n",
              "    </tr>\n",
              "    <tr>\n",
              "      <th>9</th>\n",
              "      <td>EDUCATION</td>\n",
              "      <td>SEX</td>\n",
              "      <td>2.448281e-05</td>\n",
              "    </tr>\n",
              "    <tr>\n",
              "      <th>10</th>\n",
              "      <td>EDUCATION</td>\n",
              "      <td>MARRIAGE</td>\n",
              "      <td>6.200308e-210</td>\n",
              "    </tr>\n",
              "    <tr>\n",
              "      <th>11</th>\n",
              "      <td>EDUCATION</td>\n",
              "      <td>PAY_1</td>\n",
              "      <td>3.727357e-34</td>\n",
              "    </tr>\n",
              "    <tr>\n",
              "      <th>12</th>\n",
              "      <td>EDUCATION</td>\n",
              "      <td>PAY_2</td>\n",
              "      <td>3.996742e-41</td>\n",
              "    </tr>\n",
              "    <tr>\n",
              "      <th>13</th>\n",
              "      <td>EDUCATION</td>\n",
              "      <td>PAY_3</td>\n",
              "      <td>6.919546e-31</td>\n",
              "    </tr>\n",
              "    <tr>\n",
              "      <th>14</th>\n",
              "      <td>EDUCATION</td>\n",
              "      <td>PAY_4</td>\n",
              "      <td>2.140660e-27</td>\n",
              "    </tr>\n",
              "    <tr>\n",
              "      <th>15</th>\n",
              "      <td>EDUCATION</td>\n",
              "      <td>PAY_5</td>\n",
              "      <td>1.057547e-19</td>\n",
              "    </tr>\n",
              "    <tr>\n",
              "      <th>16</th>\n",
              "      <td>EDUCATION</td>\n",
              "      <td>PAY_6</td>\n",
              "      <td>2.041062e-12</td>\n",
              "    </tr>\n",
              "    <tr>\n",
              "      <th>17</th>\n",
              "      <td>EDUCATION</td>\n",
              "      <td>DEFAULT</td>\n",
              "      <td>1.793312e-28</td>\n",
              "    </tr>\n",
              "    <tr>\n",
              "      <th>18</th>\n",
              "      <td>MARRIAGE</td>\n",
              "      <td>SEX</td>\n",
              "      <td>8.893830e-07</td>\n",
              "    </tr>\n",
              "    <tr>\n",
              "      <th>19</th>\n",
              "      <td>MARRIAGE</td>\n",
              "      <td>EDUCATION</td>\n",
              "      <td>6.200308e-210</td>\n",
              "    </tr>\n",
              "    <tr>\n",
              "      <th>20</th>\n",
              "      <td>MARRIAGE</td>\n",
              "      <td>PAY_1</td>\n",
              "      <td>1.385852e-01</td>\n",
              "    </tr>\n",
              "    <tr>\n",
              "      <th>21</th>\n",
              "      <td>MARRIAGE</td>\n",
              "      <td>PAY_2</td>\n",
              "      <td>6.874515e-01</td>\n",
              "    </tr>\n",
              "    <tr>\n",
              "      <th>22</th>\n",
              "      <td>MARRIAGE</td>\n",
              "      <td>PAY_3</td>\n",
              "      <td>8.832763e-01</td>\n",
              "    </tr>\n",
              "    <tr>\n",
              "      <th>23</th>\n",
              "      <td>MARRIAGE</td>\n",
              "      <td>PAY_4</td>\n",
              "      <td>7.213926e-01</td>\n",
              "    </tr>\n",
              "    <tr>\n",
              "      <th>24</th>\n",
              "      <td>MARRIAGE</td>\n",
              "      <td>PAY_5</td>\n",
              "      <td>8.557094e-01</td>\n",
              "    </tr>\n",
              "    <tr>\n",
              "      <th>25</th>\n",
              "      <td>MARRIAGE</td>\n",
              "      <td>PAY_6</td>\n",
              "      <td>8.977437e-01</td>\n",
              "    </tr>\n",
              "    <tr>\n",
              "      <th>26</th>\n",
              "      <td>MARRIAGE</td>\n",
              "      <td>DEFAULT</td>\n",
              "      <td>1.571466e-06</td>\n",
              "    </tr>\n",
              "    <tr>\n",
              "      <th>27</th>\n",
              "      <td>PAY_1</td>\n",
              "      <td>SEX</td>\n",
              "      <td>1.108675e-07</td>\n",
              "    </tr>\n",
              "    <tr>\n",
              "      <th>28</th>\n",
              "      <td>PAY_1</td>\n",
              "      <td>EDUCATION</td>\n",
              "      <td>3.727357e-34</td>\n",
              "    </tr>\n",
              "    <tr>\n",
              "      <th>29</th>\n",
              "      <td>PAY_1</td>\n",
              "      <td>MARRIAGE</td>\n",
              "      <td>1.385852e-01</td>\n",
              "    </tr>\n",
              "    <tr>\n",
              "      <th>...</th>\n",
              "      <td>...</td>\n",
              "      <td>...</td>\n",
              "      <td>...</td>\n",
              "    </tr>\n",
              "    <tr>\n",
              "      <th>60</th>\n",
              "      <td>PAY_4</td>\n",
              "      <td>PAY_5</td>\n",
              "      <td>0.000000e+00</td>\n",
              "    </tr>\n",
              "    <tr>\n",
              "      <th>61</th>\n",
              "      <td>PAY_4</td>\n",
              "      <td>PAY_6</td>\n",
              "      <td>0.000000e+00</td>\n",
              "    </tr>\n",
              "    <tr>\n",
              "      <th>62</th>\n",
              "      <td>PAY_4</td>\n",
              "      <td>DEFAULT</td>\n",
              "      <td>0.000000e+00</td>\n",
              "    </tr>\n",
              "    <tr>\n",
              "      <th>63</th>\n",
              "      <td>PAY_5</td>\n",
              "      <td>SEX</td>\n",
              "      <td>1.668962e-09</td>\n",
              "    </tr>\n",
              "    <tr>\n",
              "      <th>64</th>\n",
              "      <td>PAY_5</td>\n",
              "      <td>EDUCATION</td>\n",
              "      <td>1.057547e-19</td>\n",
              "    </tr>\n",
              "    <tr>\n",
              "      <th>65</th>\n",
              "      <td>PAY_5</td>\n",
              "      <td>MARRIAGE</td>\n",
              "      <td>8.557094e-01</td>\n",
              "    </tr>\n",
              "    <tr>\n",
              "      <th>66</th>\n",
              "      <td>PAY_5</td>\n",
              "      <td>PAY_1</td>\n",
              "      <td>0.000000e+00</td>\n",
              "    </tr>\n",
              "    <tr>\n",
              "      <th>67</th>\n",
              "      <td>PAY_5</td>\n",
              "      <td>PAY_2</td>\n",
              "      <td>0.000000e+00</td>\n",
              "    </tr>\n",
              "    <tr>\n",
              "      <th>68</th>\n",
              "      <td>PAY_5</td>\n",
              "      <td>PAY_3</td>\n",
              "      <td>0.000000e+00</td>\n",
              "    </tr>\n",
              "    <tr>\n",
              "      <th>69</th>\n",
              "      <td>PAY_5</td>\n",
              "      <td>PAY_4</td>\n",
              "      <td>0.000000e+00</td>\n",
              "    </tr>\n",
              "    <tr>\n",
              "      <th>70</th>\n",
              "      <td>PAY_5</td>\n",
              "      <td>PAY_6</td>\n",
              "      <td>0.000000e+00</td>\n",
              "    </tr>\n",
              "    <tr>\n",
              "      <th>71</th>\n",
              "      <td>PAY_5</td>\n",
              "      <td>DEFAULT</td>\n",
              "      <td>0.000000e+00</td>\n",
              "    </tr>\n",
              "    <tr>\n",
              "      <th>72</th>\n",
              "      <td>PAY_6</td>\n",
              "      <td>SEX</td>\n",
              "      <td>2.597840e-06</td>\n",
              "    </tr>\n",
              "    <tr>\n",
              "      <th>73</th>\n",
              "      <td>PAY_6</td>\n",
              "      <td>EDUCATION</td>\n",
              "      <td>2.041062e-12</td>\n",
              "    </tr>\n",
              "    <tr>\n",
              "      <th>74</th>\n",
              "      <td>PAY_6</td>\n",
              "      <td>MARRIAGE</td>\n",
              "      <td>8.977437e-01</td>\n",
              "    </tr>\n",
              "    <tr>\n",
              "      <th>75</th>\n",
              "      <td>PAY_6</td>\n",
              "      <td>PAY_1</td>\n",
              "      <td>0.000000e+00</td>\n",
              "    </tr>\n",
              "    <tr>\n",
              "      <th>76</th>\n",
              "      <td>PAY_6</td>\n",
              "      <td>PAY_2</td>\n",
              "      <td>0.000000e+00</td>\n",
              "    </tr>\n",
              "    <tr>\n",
              "      <th>77</th>\n",
              "      <td>PAY_6</td>\n",
              "      <td>PAY_3</td>\n",
              "      <td>0.000000e+00</td>\n",
              "    </tr>\n",
              "    <tr>\n",
              "      <th>78</th>\n",
              "      <td>PAY_6</td>\n",
              "      <td>PAY_4</td>\n",
              "      <td>0.000000e+00</td>\n",
              "    </tr>\n",
              "    <tr>\n",
              "      <th>79</th>\n",
              "      <td>PAY_6</td>\n",
              "      <td>PAY_5</td>\n",
              "      <td>0.000000e+00</td>\n",
              "    </tr>\n",
              "    <tr>\n",
              "      <th>80</th>\n",
              "      <td>PAY_6</td>\n",
              "      <td>DEFAULT</td>\n",
              "      <td>0.000000e+00</td>\n",
              "    </tr>\n",
              "    <tr>\n",
              "      <th>81</th>\n",
              "      <td>DEFAULT</td>\n",
              "      <td>SEX</td>\n",
              "      <td>1.333994e-12</td>\n",
              "    </tr>\n",
              "    <tr>\n",
              "      <th>82</th>\n",
              "      <td>DEFAULT</td>\n",
              "      <td>EDUCATION</td>\n",
              "      <td>1.793312e-28</td>\n",
              "    </tr>\n",
              "    <tr>\n",
              "      <th>83</th>\n",
              "      <td>DEFAULT</td>\n",
              "      <td>MARRIAGE</td>\n",
              "      <td>1.571466e-06</td>\n",
              "    </tr>\n",
              "    <tr>\n",
              "      <th>84</th>\n",
              "      <td>DEFAULT</td>\n",
              "      <td>PAY_1</td>\n",
              "      <td>0.000000e+00</td>\n",
              "    </tr>\n",
              "    <tr>\n",
              "      <th>85</th>\n",
              "      <td>DEFAULT</td>\n",
              "      <td>PAY_2</td>\n",
              "      <td>0.000000e+00</td>\n",
              "    </tr>\n",
              "    <tr>\n",
              "      <th>86</th>\n",
              "      <td>DEFAULT</td>\n",
              "      <td>PAY_3</td>\n",
              "      <td>0.000000e+00</td>\n",
              "    </tr>\n",
              "    <tr>\n",
              "      <th>87</th>\n",
              "      <td>DEFAULT</td>\n",
              "      <td>PAY_4</td>\n",
              "      <td>0.000000e+00</td>\n",
              "    </tr>\n",
              "    <tr>\n",
              "      <th>88</th>\n",
              "      <td>DEFAULT</td>\n",
              "      <td>PAY_5</td>\n",
              "      <td>0.000000e+00</td>\n",
              "    </tr>\n",
              "    <tr>\n",
              "      <th>89</th>\n",
              "      <td>DEFAULT</td>\n",
              "      <td>PAY_6</td>\n",
              "      <td>0.000000e+00</td>\n",
              "    </tr>\n",
              "  </tbody>\n",
              "</table>\n",
              "<p>90 rows × 3 columns</p>\n",
              "</div>"
            ],
            "text/plain": [
              "   Variable_1 Variable_2        P_value\n",
              "0         SEX  EDUCATION   2.448281e-05\n",
              "1         SEX   MARRIAGE   8.893830e-07\n",
              "2         SEX      PAY_1   1.108675e-07\n",
              "3         SEX      PAY_2   9.658601e-12\n",
              "4         SEX      PAY_3   3.728432e-11\n",
              "5         SEX      PAY_4   1.161336e-10\n",
              "6         SEX      PAY_5   1.668962e-09\n",
              "7         SEX      PAY_6   2.597840e-06\n",
              "8         SEX    DEFAULT   1.333994e-12\n",
              "9   EDUCATION        SEX   2.448281e-05\n",
              "10  EDUCATION   MARRIAGE  6.200308e-210\n",
              "11  EDUCATION      PAY_1   3.727357e-34\n",
              "12  EDUCATION      PAY_2   3.996742e-41\n",
              "13  EDUCATION      PAY_3   6.919546e-31\n",
              "14  EDUCATION      PAY_4   2.140660e-27\n",
              "15  EDUCATION      PAY_5   1.057547e-19\n",
              "16  EDUCATION      PAY_6   2.041062e-12\n",
              "17  EDUCATION    DEFAULT   1.793312e-28\n",
              "18   MARRIAGE        SEX   8.893830e-07\n",
              "19   MARRIAGE  EDUCATION  6.200308e-210\n",
              "20   MARRIAGE      PAY_1   1.385852e-01\n",
              "21   MARRIAGE      PAY_2   6.874515e-01\n",
              "22   MARRIAGE      PAY_3   8.832763e-01\n",
              "23   MARRIAGE      PAY_4   7.213926e-01\n",
              "24   MARRIAGE      PAY_5   8.557094e-01\n",
              "25   MARRIAGE      PAY_6   8.977437e-01\n",
              "26   MARRIAGE    DEFAULT   1.571466e-06\n",
              "27      PAY_1        SEX   1.108675e-07\n",
              "28      PAY_1  EDUCATION   3.727357e-34\n",
              "29      PAY_1   MARRIAGE   1.385852e-01\n",
              "..        ...        ...            ...\n",
              "60      PAY_4      PAY_5   0.000000e+00\n",
              "61      PAY_4      PAY_6   0.000000e+00\n",
              "62      PAY_4    DEFAULT   0.000000e+00\n",
              "63      PAY_5        SEX   1.668962e-09\n",
              "64      PAY_5  EDUCATION   1.057547e-19\n",
              "65      PAY_5   MARRIAGE   8.557094e-01\n",
              "66      PAY_5      PAY_1   0.000000e+00\n",
              "67      PAY_5      PAY_2   0.000000e+00\n",
              "68      PAY_5      PAY_3   0.000000e+00\n",
              "69      PAY_5      PAY_4   0.000000e+00\n",
              "70      PAY_5      PAY_6   0.000000e+00\n",
              "71      PAY_5    DEFAULT   0.000000e+00\n",
              "72      PAY_6        SEX   2.597840e-06\n",
              "73      PAY_6  EDUCATION   2.041062e-12\n",
              "74      PAY_6   MARRIAGE   8.977437e-01\n",
              "75      PAY_6      PAY_1   0.000000e+00\n",
              "76      PAY_6      PAY_2   0.000000e+00\n",
              "77      PAY_6      PAY_3   0.000000e+00\n",
              "78      PAY_6      PAY_4   0.000000e+00\n",
              "79      PAY_6      PAY_5   0.000000e+00\n",
              "80      PAY_6    DEFAULT   0.000000e+00\n",
              "81    DEFAULT        SEX   1.333994e-12\n",
              "82    DEFAULT  EDUCATION   1.793312e-28\n",
              "83    DEFAULT   MARRIAGE   1.571466e-06\n",
              "84    DEFAULT      PAY_1   0.000000e+00\n",
              "85    DEFAULT      PAY_2   0.000000e+00\n",
              "86    DEFAULT      PAY_3   0.000000e+00\n",
              "87    DEFAULT      PAY_4   0.000000e+00\n",
              "88    DEFAULT      PAY_5   0.000000e+00\n",
              "89    DEFAULT      PAY_6   0.000000e+00\n",
              "\n",
              "[90 rows x 3 columns]"
            ]
          },
          "metadata": {
            "tags": []
          },
          "execution_count": 119
        }
      ]
    },
    {
      "cell_type": "markdown",
      "metadata": {
        "id": "PhjzxIBDBygQ",
        "colab_type": "text"
      },
      "source": [
        "## Report:\n",
        "1.There is multicollinearity present among the bill_amount variables.\n",
        "\n",
        "2.The categorical variables also show association with each other based on the chi-squared test."
      ]
    },
    {
      "cell_type": "markdown",
      "metadata": {
        "id": "DQnZf_gDB6-F",
        "colab_type": "text"
      },
      "source": [
        "## Bi-variate analysis (with the target variable)"
      ]
    },
    {
      "cell_type": "markdown",
      "metadata": {
        "id": "REoOl3kcB_D8",
        "colab_type": "text"
      },
      "source": [
        "## 1. limit_bal vs default"
      ]
    },
    {
      "cell_type": "code",
      "metadata": {
        "id": "sf4wGVg0CDmF",
        "colab_type": "code",
        "colab": {
          "base_uri": "https://localhost:8080/",
          "height": 300
        },
        "outputId": "0b55e2b0-4f05-4299-9220-32925d713ecc"
      },
      "source": [
        "sns.boxplot(data.DEFAULT,data.LIMIT_BAL)"
      ],
      "execution_count": 120,
      "outputs": [
        {
          "output_type": "execute_result",
          "data": {
            "text/plain": [
              "<matplotlib.axes._subplots.AxesSubplot at 0x7f922bf59ef0>"
            ]
          },
          "metadata": {
            "tags": []
          },
          "execution_count": 120
        },
        {
          "output_type": "display_data",
          "data": {
            "image/png": "[encoded data removed]",
            "text/plain": [
              "<Figure size 432x288 with 1 Axes>"
            ]
          },
          "metadata": {
            "tags": []
          }
        }
      ]
    },
    {
      "cell_type": "code",
      "metadata": {
        "id": "VHW_saWvCKMQ",
        "colab_type": "code",
        "colab": {
          "base_uri": "https://localhost:8080/",
          "height": 300
        },
        "outputId": "d34ff809-011d-471a-aa3b-8338d752535a"
      },
      "source": [
        "sns.violinplot(data.DEFAULT,data.LIMIT_BAL)"
      ],
      "execution_count": 121,
      "outputs": [
        {
          "output_type": "execute_result",
          "data": {
            "text/plain": [
              "<matplotlib.axes._subplots.AxesSubplot at 0x7f922bd1cf98>"
            ]
          },
          "metadata": {
            "tags": []
          },
          "execution_count": 121
        },
        {
          "output_type": "display_data",
          "data": {
            "image/png": "[encoded data removed]",
            "text/plain": [
              "<Figure size 432x288 with 1 Axes>"
            ]
          },
          "metadata": {
            "tags": []
          }
        }
      ]
    },
    {
      "cell_type": "markdown",
      "metadata": {
        "id": "GOmOuZIIDBq-",
        "colab_type": "text"
      },
      "source": [
        "## 2. age vs default"
      ]
    },
    {
      "cell_type": "code",
      "metadata": {
        "id": "X6qAWAODDEP0",
        "colab_type": "code",
        "colab": {
          "base_uri": "https://localhost:8080/",
          "height": 296
        },
        "outputId": "46833fae-63df-4276-9dc8-5d6c86a24557"
      },
      "source": [
        "pd.crosstab(data.DEFAULT,data.AGE).plot(kind='bar')"
      ],
      "execution_count": 122,
      "outputs": [
        {
          "output_type": "execute_result",
          "data": {
            "text/plain": [
              "<matplotlib.axes._subplots.AxesSubplot at 0x7f922bc7ed68>"
            ]
          },
          "metadata": {
            "tags": []
          },
          "execution_count": 122
        },
        {
          "output_type": "display_data",
          "data": {
            "image/png": "[encoded data removed]",
            "text/plain": [
              "<Figure size 432x288 with 1 Axes>"
            ]
          },
          "metadata": {
            "tags": []
          }
        }
      ]
    },
    {
      "cell_type": "markdown",
      "metadata": {
        "id": "NqxgRqkODjBS",
        "colab_type": "text"
      },
      "source": [
        "## 3. sex vs default"
      ]
    },
    {
      "cell_type": "code",
      "metadata": {
        "id": "UPZ8-iKbDlvf",
        "colab_type": "code",
        "colab": {
          "base_uri": "https://localhost:8080/",
          "height": 334
        },
        "outputId": "c7dbb26c-4176-4faa-865a-e01768af363c"
      },
      "source": [
        "sns.countplot(data.SEX,hue=data.DEFAULT)\n",
        "print(data.SEX.value_counts(\"%\"))"
      ],
      "execution_count": 123,
      "outputs": [
        {
          "output_type": "stream",
          "text": [
            "2    0.603733\n",
            "1    0.396267\n",
            "Name: SEX, dtype: float64\n"
          ],
          "name": "stdout"
        },
        {
          "output_type": "display_data",
          "data": {
            "image/png": "[encoded data removed]",
            "text/plain": [
              "<Figure size 432x288 with 1 Axes>"
            ]
          },
          "metadata": {
            "tags": []
          }
        }
      ]
    },
    {
      "cell_type": "code",
      "metadata": {
        "id": "QiU0fA18DuFS",
        "colab_type": "code",
        "colab": {
          "base_uri": "https://localhost:8080/",
          "height": 119
        },
        "outputId": "82621d17-61cc-45ec-a5a2-83479314b8d2"
      },
      "source": [
        "data.groupby('SEX')['DEFAULT'].value_counts(\"%\")"
      ],
      "execution_count": 124,
      "outputs": [
        {
          "output_type": "execute_result",
          "data": {
            "text/plain": [
              "SEX  DEFAULT\n",
              "1    0          0.767581\n",
              "     1          0.232419\n",
              "2    0          0.801844\n",
              "     1          0.198156\n",
              "Name: DEFAULT, dtype: float64"
            ]
          },
          "metadata": {
            "tags": []
          },
          "execution_count": 124
        }
      ]
    },
    {
      "cell_type": "markdown",
      "metadata": {
        "id": "PIZG--hMEGXl",
        "colab_type": "text"
      },
      "source": [
        "## Repayment status"
      ]
    },
    {
      "cell_type": "code",
      "metadata": {
        "id": "Pi1EIjtoEAEq",
        "colab_type": "code",
        "colab": {
          "base_uri": "https://localhost:8080/",
          "height": 1000
        },
        "outputId": "4043c40b-67db-42b9-ff65-64a08c03682f"
      },
      "source": [
        "for i in ['PAY_1','PAY_2', 'PAY_3', 'PAY_4', 'PAY_5', 'PAY_6']:\n",
        "  pd.crosstab(data.DEFAULT,data[i]).plot.bar(stacked=True)\n",
        "  print(pd.crosstab(data.DEFAULT,data[i]))"
      ],
      "execution_count": 125,
      "outputs": [
        {
          "output_type": "stream",
          "text": [
            "PAY_1        0     1     2    3   4   5  6  7   8\n",
            "DEFAULT                                          \n",
            "0        20259  2436   823   78  24  13  5  2   8\n",
            "1         2923  1252  1844  244  52  13  6  7  11\n",
            "PAY_2        0   1     2    3   4   5  6   7  8\n",
            "DEFAULT                                        \n",
            "0        21686  23  1743  125  49  10  3   8  1\n",
            "1         3876   5  2184  201  50  15  9  12  0\n",
            "PAY_3        0  1     2    3   4   5   6   7  8\n",
            "DEFAULT                                        \n",
            "0        21637  3  1850  102  32   9   9   5  1\n",
            "1         4150  1  1969  138  44  12  14  22  2\n",
            "PAY_4        0  1     2    3   4   5  6   7  8\n",
            "DEFAULT                                       \n",
            "0        22017  1  1506   70  23  17  3  10  1\n",
            "1         4473  1  1653  110  46  18  2  48  1\n",
            "PAY_5        0     2    3   4   5  6   7  8\n",
            "DEFAULT                                    \n",
            "0        22329  1203   65  33   7  1  10  0\n",
            "1         4703  1423  113  51  10  3  48  1\n",
            "PAY_6        0     2    3   4  5   6   7  8\n",
            "DEFAULT                                    \n",
            "0        22180  1365   66  18  6   5   8  0\n",
            "1         4741  1401  118  31  7  14  38  2\n"
          ],
          "name": "stdout"
        },
        {
          "output_type": "display_data",
          "data": {
            "image/png": "[encoded data removed]",
            "text/plain": [
              "<Figure size 432x288 with 1 Axes>"
            ]
          },
          "metadata": {
            "tags": []
          }
        },
        {
          "output_type": "display_data",
          "data": {
            "image/png": "[encoded data removed]",
            "text/plain": [
              "<Figure size 432x288 with 1 Axes>"
            ]
          },
          "metadata": {
            "tags": []
          }
        },
        {
          "output_type": "display_data",
          "data": {
            "image/png": "[encoded data removed]",
            "text/plain": [
              "<Figure size 432x288 with 1 Axes>"
            ]
          },
          "metadata": {
            "tags": []
          }
        },
        {
          "output_type": "display_data",
          "data": {
            "image/png": "[encoded data removed]",
            "text/plain": [
              "<Figure size 432x288 with 1 Axes>"
            ]
          },
          "metadata": {
            "tags": []
          }
        },
        {
          "output_type": "display_data",
          "data": {
            "image/png": "[encoded data removed]",
            "text/plain": [
              "<Figure size 432x288 with 1 Axes>"
            ]
          },
          "metadata": {
            "tags": []
          }
        },
        {
          "output_type": "display_data",
          "data": {
            "image/png": "[encoded data removed]",
            "text/plain": [
              "<Figure size 432x288 with 1 Axes>"
            ]
          },
          "metadata": {
            "tags": []
          }
        }
      ]
    },
    {
      "cell_type": "code",
      "metadata": {
        "id": "VQc83YSOFxMX",
        "colab_type": "code",
        "colab": {}
      },
      "source": [
        "for i in ['PAY_1','PAY_2', 'PAY_3', 'PAY_4', 'PAY_5', 'PAY_6']:\n",
        "  data[i].replace(-2,0,inplace=True)\n",
        "  data[i].replace(-1,0,inplace=True)"
      ],
      "execution_count": 0,
      "outputs": []
    },
    {
      "cell_type": "code",
      "metadata": {
        "id": "AUttC_EZFrAy",
        "colab_type": "code",
        "colab": {}
      },
      "source": [
        "def pay_x(x):\n",
        "  if x>1:\n",
        "    return(1)\n",
        "  else:\n",
        "    return(x)\n",
        "for i in ['PAY_1','PAY_2', 'PAY_3', 'PAY_4', 'PAY_5', 'PAY_6']:\n",
        "  data[i]=data[i].apply(pay_x)"
      ],
      "execution_count": 0,
      "outputs": []
    },
    {
      "cell_type": "markdown",
      "metadata": {
        "id": "OVSMcefzG3mu",
        "colab_type": "text"
      },
      "source": [
        "## Customers with payment delay of 2 or more than 2 months have a higher percentage of defaulting"
      ]
    },
    {
      "cell_type": "code",
      "metadata": {
        "id": "JK0Vv6hkDo2x",
        "colab_type": "code",
        "outputId": "efab46f7-3d03-4485-f2af-5c83d9ab7d90",
        "colab": {
          "base_uri": "https://localhost:8080/",
          "height": 224
        }
      },
      "source": [
        "data.head()"
      ],
      "execution_count": 129,
      "outputs": [
        {
          "output_type": "execute_result",
          "data": {
            "text/html": [
              "<div>\n",
              "<style scoped>\n",
              "    .dataframe tbody tr th:only-of-type {\n",
              "        vertical-align: middle;\n",
              "    }\n",
              "\n",
              "    .dataframe tbody tr th {\n",
              "        vertical-align: top;\n",
              "    }\n",
              "\n",
              "    .dataframe thead th {\n",
              "        text-align: right;\n",
              "    }\n",
              "</style>\n",
              "<table border=\"1\" class=\"dataframe\">\n",
              "  <thead>\n",
              "    <tr style=\"text-align: right;\">\n",
              "      <th></th>\n",
              "      <th>ID</th>\n",
              "      <th>LIMIT_BAL</th>\n",
              "      <th>SEX</th>\n",
              "      <th>EDUCATION</th>\n",
              "      <th>MARRIAGE</th>\n",
              "      <th>AGE</th>\n",
              "      <th>PAY_1</th>\n",
              "      <th>PAY_2</th>\n",
              "      <th>PAY_3</th>\n",
              "      <th>PAY_4</th>\n",
              "      <th>PAY_5</th>\n",
              "      <th>PAY_6</th>\n",
              "      <th>BILL_AMT1</th>\n",
              "      <th>BILL_AMT2</th>\n",
              "      <th>BILL_AMT3</th>\n",
              "      <th>BILL_AMT4</th>\n",
              "      <th>BILL_AMT5</th>\n",
              "      <th>BILL_AMT6</th>\n",
              "      <th>PAY_AMT1</th>\n",
              "      <th>PAY_AMT2</th>\n",
              "      <th>PAY_AMT3</th>\n",
              "      <th>PAY_AMT4</th>\n",
              "      <th>PAY_AMT5</th>\n",
              "      <th>PAY_AMT6</th>\n",
              "      <th>DEFAULT</th>\n",
              "    </tr>\n",
              "  </thead>\n",
              "  <tbody>\n",
              "    <tr>\n",
              "      <th>0</th>\n",
              "      <td>1</td>\n",
              "      <td>20000.0</td>\n",
              "      <td>2</td>\n",
              "      <td>2</td>\n",
              "      <td>1</td>\n",
              "      <td>1</td>\n",
              "      <td>1</td>\n",
              "      <td>1</td>\n",
              "      <td>0</td>\n",
              "      <td>0</td>\n",
              "      <td>0</td>\n",
              "      <td>0</td>\n",
              "      <td>3913.0</td>\n",
              "      <td>3102.0</td>\n",
              "      <td>689.0</td>\n",
              "      <td>0.0</td>\n",
              "      <td>0.0</td>\n",
              "      <td>0.0</td>\n",
              "      <td>0.0</td>\n",
              "      <td>689.0</td>\n",
              "      <td>0.0</td>\n",
              "      <td>0.0</td>\n",
              "      <td>0.0</td>\n",
              "      <td>0.0</td>\n",
              "      <td>1</td>\n",
              "    </tr>\n",
              "    <tr>\n",
              "      <th>1</th>\n",
              "      <td>2</td>\n",
              "      <td>120000.0</td>\n",
              "      <td>2</td>\n",
              "      <td>2</td>\n",
              "      <td>2</td>\n",
              "      <td>1</td>\n",
              "      <td>0</td>\n",
              "      <td>1</td>\n",
              "      <td>0</td>\n",
              "      <td>0</td>\n",
              "      <td>0</td>\n",
              "      <td>1</td>\n",
              "      <td>2682.0</td>\n",
              "      <td>1725.0</td>\n",
              "      <td>2682.0</td>\n",
              "      <td>3272.0</td>\n",
              "      <td>3455.0</td>\n",
              "      <td>3261.0</td>\n",
              "      <td>0.0</td>\n",
              "      <td>1000.0</td>\n",
              "      <td>1000.0</td>\n",
              "      <td>1000.0</td>\n",
              "      <td>0.0</td>\n",
              "      <td>2000.0</td>\n",
              "      <td>1</td>\n",
              "    </tr>\n",
              "    <tr>\n",
              "      <th>2</th>\n",
              "      <td>3</td>\n",
              "      <td>90000.0</td>\n",
              "      <td>2</td>\n",
              "      <td>2</td>\n",
              "      <td>2</td>\n",
              "      <td>3</td>\n",
              "      <td>0</td>\n",
              "      <td>0</td>\n",
              "      <td>0</td>\n",
              "      <td>0</td>\n",
              "      <td>0</td>\n",
              "      <td>0</td>\n",
              "      <td>29239.0</td>\n",
              "      <td>14027.0</td>\n",
              "      <td>13559.0</td>\n",
              "      <td>14331.0</td>\n",
              "      <td>14948.0</td>\n",
              "      <td>15549.0</td>\n",
              "      <td>1518.0</td>\n",
              "      <td>1500.0</td>\n",
              "      <td>1000.0</td>\n",
              "      <td>1000.0</td>\n",
              "      <td>1000.0</td>\n",
              "      <td>5000.0</td>\n",
              "      <td>0</td>\n",
              "    </tr>\n",
              "    <tr>\n",
              "      <th>3</th>\n",
              "      <td>4</td>\n",
              "      <td>50000.0</td>\n",
              "      <td>2</td>\n",
              "      <td>2</td>\n",
              "      <td>1</td>\n",
              "      <td>3</td>\n",
              "      <td>0</td>\n",
              "      <td>0</td>\n",
              "      <td>0</td>\n",
              "      <td>0</td>\n",
              "      <td>0</td>\n",
              "      <td>0</td>\n",
              "      <td>46990.0</td>\n",
              "      <td>48233.0</td>\n",
              "      <td>49291.0</td>\n",
              "      <td>28314.0</td>\n",
              "      <td>28959.0</td>\n",
              "      <td>29547.0</td>\n",
              "      <td>2000.0</td>\n",
              "      <td>2019.0</td>\n",
              "      <td>1200.0</td>\n",
              "      <td>1100.0</td>\n",
              "      <td>1069.0</td>\n",
              "      <td>1000.0</td>\n",
              "      <td>0</td>\n",
              "    </tr>\n",
              "    <tr>\n",
              "      <th>4</th>\n",
              "      <td>5</td>\n",
              "      <td>50000.0</td>\n",
              "      <td>1</td>\n",
              "      <td>2</td>\n",
              "      <td>1</td>\n",
              "      <td>4</td>\n",
              "      <td>0</td>\n",
              "      <td>0</td>\n",
              "      <td>0</td>\n",
              "      <td>0</td>\n",
              "      <td>0</td>\n",
              "      <td>0</td>\n",
              "      <td>8617.0</td>\n",
              "      <td>5670.0</td>\n",
              "      <td>35835.0</td>\n",
              "      <td>20940.0</td>\n",
              "      <td>19146.0</td>\n",
              "      <td>19131.0</td>\n",
              "      <td>2000.0</td>\n",
              "      <td>11250.5</td>\n",
              "      <td>10000.0</td>\n",
              "      <td>9000.0</td>\n",
              "      <td>689.0</td>\n",
              "      <td>679.0</td>\n",
              "      <td>0</td>\n",
              "    </tr>\n",
              "  </tbody>\n",
              "</table>\n",
              "</div>"
            ],
            "text/plain": [
              "   ID  LIMIT_BAL  SEX  EDUCATION  MARRIAGE  AGE  PAY_1  PAY_2  PAY_3  PAY_4  \\\n",
              "0   1    20000.0    2          2         1    1      1      1      0      0   \n",
              "1   2   120000.0    2          2         2    1      0      1      0      0   \n",
              "2   3    90000.0    2          2         2    3      0      0      0      0   \n",
              "3   4    50000.0    2          2         1    3      0      0      0      0   \n",
              "4   5    50000.0    1          2         1    4      0      0      0      0   \n",
              "\n",
              "   PAY_5  PAY_6  BILL_AMT1  BILL_AMT2  BILL_AMT3  BILL_AMT4  BILL_AMT5  \\\n",
              "0      0      0     3913.0     3102.0      689.0        0.0        0.0   \n",
              "1      0      1     2682.0     1725.0     2682.0     3272.0     3455.0   \n",
              "2      0      0    29239.0    14027.0    13559.0    14331.0    14948.0   \n",
              "3      0      0    46990.0    48233.0    49291.0    28314.0    28959.0   \n",
              "4      0      0     8617.0     5670.0    35835.0    20940.0    19146.0   \n",
              "\n",
              "   BILL_AMT6  PAY_AMT1  PAY_AMT2  PAY_AMT3  PAY_AMT4  PAY_AMT5  PAY_AMT6  \\\n",
              "0        0.0       0.0     689.0       0.0       0.0       0.0       0.0   \n",
              "1     3261.0       0.0    1000.0    1000.0    1000.0       0.0    2000.0   \n",
              "2    15549.0    1518.0    1500.0    1000.0    1000.0    1000.0    5000.0   \n",
              "3    29547.0    2000.0    2019.0    1200.0    1100.0    1069.0    1000.0   \n",
              "4    19131.0    2000.0   11250.5   10000.0    9000.0     689.0     679.0   \n",
              "\n",
              "   DEFAULT  \n",
              "0        1  \n",
              "1        1  \n",
              "2        0  \n",
              "3        0  \n",
              "4        0  "
            ]
          },
          "metadata": {
            "tags": []
          },
          "execution_count": 129
        }
      ]
    },
    {
      "cell_type": "code",
      "metadata": {
        "id": "CGRSYofq27tZ",
        "colab_type": "code",
        "outputId": "3a0ed8d7-7a5c-4d29-f63e-de18e4327d53",
        "colab": {
          "base_uri": "https://localhost:8080/",
          "height": 34
        }
      },
      "source": [
        "data.shape"
      ],
      "execution_count": 130,
      "outputs": [
        {
          "output_type": "execute_result",
          "data": {
            "text/plain": [
              "(30000, 25)"
            ]
          },
          "metadata": {
            "tags": []
          },
          "execution_count": 130
        }
      ]
    },
    {
      "cell_type": "code",
      "metadata": {
        "id": "4ha583NPD1Na",
        "colab_type": "code",
        "colab": {}
      },
      "source": [
        "X=data.drop([\"ID\",\"DEFAULT\"],axis=1)\n",
        "y=data.DEFAULT"
      ],
      "execution_count": 0,
      "outputs": []
    },
    {
      "cell_type": "markdown",
      "metadata": {
        "id": "oh-ayv0NEn1z",
        "colab_type": "text"
      },
      "source": [
        "## Scaling the data set"
      ]
    },
    {
      "cell_type": "code",
      "metadata": {
        "id": "5rzf7gWeEkQG",
        "colab_type": "code",
        "colab": {}
      },
      "source": [
        "from sklearn.preprocessing import StandardScaler\n",
        "sc=StandardScaler()\n",
        "X=pd.DataFrame(sc.fit_transform(X),columns=X.columns)"
      ],
      "execution_count": 0,
      "outputs": []
    },
    {
      "cell_type": "code",
      "metadata": {
        "id": "MXCuDqs8E6iV",
        "colab_type": "code",
        "outputId": "ed8e829f-4d48-484b-9197-39433bec501c",
        "colab": {
          "base_uri": "https://localhost:8080/",
          "height": 224
        }
      },
      "source": [
        "X.head()"
      ],
      "execution_count": 0,
      "outputs": [
        {
          "output_type": "execute_result",
          "data": {
            "text/html": [
              "<div>\n",
              "<style scoped>\n",
              "    .dataframe tbody tr th:only-of-type {\n",
              "        vertical-align: middle;\n",
              "    }\n",
              "\n",
              "    .dataframe tbody tr th {\n",
              "        vertical-align: top;\n",
              "    }\n",
              "\n",
              "    .dataframe thead th {\n",
              "        text-align: right;\n",
              "    }\n",
              "</style>\n",
              "<table border=\"1\" class=\"dataframe\">\n",
              "  <thead>\n",
              "    <tr style=\"text-align: right;\">\n",
              "      <th></th>\n",
              "      <th>LIMIT_BAL</th>\n",
              "      <th>SEX</th>\n",
              "      <th>EDUCATION</th>\n",
              "      <th>MARRIAGE</th>\n",
              "      <th>AGE</th>\n",
              "      <th>PAY_1</th>\n",
              "      <th>PAY_2</th>\n",
              "      <th>PAY_3</th>\n",
              "      <th>PAY_4</th>\n",
              "      <th>PAY_5</th>\n",
              "      <th>PAY_6</th>\n",
              "      <th>BILL_AMT1</th>\n",
              "      <th>BILL_AMT2</th>\n",
              "      <th>BILL_AMT3</th>\n",
              "      <th>BILL_AMT4</th>\n",
              "      <th>BILL_AMT5</th>\n",
              "      <th>BILL_AMT6</th>\n",
              "      <th>PAY_AMT1</th>\n",
              "      <th>PAY_AMT2</th>\n",
              "      <th>PAY_AMT3</th>\n",
              "      <th>PAY_AMT4</th>\n",
              "      <th>PAY_AMT5</th>\n",
              "      <th>PAY_AMT6</th>\n",
              "    </tr>\n",
              "  </thead>\n",
              "  <tbody>\n",
              "    <tr>\n",
              "      <th>0</th>\n",
              "      <td>-1.148083</td>\n",
              "      <td>0.810161</td>\n",
              "      <td>0.255476</td>\n",
              "      <td>-1.072064</td>\n",
              "      <td>-1.412805</td>\n",
              "      <td>1.843941</td>\n",
              "      <td>2.399959</td>\n",
              "      <td>-0.404199</td>\n",
              "      <td>-0.364009</td>\n",
              "      <td>-0.331354</td>\n",
              "      <td>-0.338189</td>\n",
              "      <td>-0.787236</td>\n",
              "      <td>-0.797557</td>\n",
              "      <td>-0.844489</td>\n",
              "      <td>-0.854980</td>\n",
              "      <td>-0.846067</td>\n",
              "      <td>-0.827978</td>\n",
              "      <td>-1.001158</td>\n",
              "      <td>-0.773703</td>\n",
              "      <td>-0.904708</td>\n",
              "      <td>-0.884502</td>\n",
              "      <td>-0.882842</td>\n",
              "      <td>-0.866920</td>\n",
              "    </tr>\n",
              "    <tr>\n",
              "      <th>1</th>\n",
              "      <td>-0.366901</td>\n",
              "      <td>0.810161</td>\n",
              "      <td>0.255476</td>\n",
              "      <td>0.857960</td>\n",
              "      <td>-1.412805</td>\n",
              "      <td>-0.542317</td>\n",
              "      <td>2.399959</td>\n",
              "      <td>-0.404199</td>\n",
              "      <td>-0.364009</td>\n",
              "      <td>-0.331354</td>\n",
              "      <td>2.956928</td>\n",
              "      <td>-0.811235</td>\n",
              "      <td>-0.825508</td>\n",
              "      <td>-0.801811</td>\n",
              "      <td>-0.778444</td>\n",
              "      <td>-0.759465</td>\n",
              "      <td>-0.745143</td>\n",
              "      <td>-1.001158</td>\n",
              "      <td>-0.685670</td>\n",
              "      <td>-0.606697</td>\n",
              "      <td>-0.559114</td>\n",
              "      <td>-0.882842</td>\n",
              "      <td>-0.228173</td>\n",
              "    </tr>\n",
              "    <tr>\n",
              "      <th>2</th>\n",
              "      <td>-0.601256</td>\n",
              "      <td>0.810161</td>\n",
              "      <td>0.255476</td>\n",
              "      <td>0.857960</td>\n",
              "      <td>0.385572</td>\n",
              "      <td>-0.542317</td>\n",
              "      <td>-0.416674</td>\n",
              "      <td>-0.404199</td>\n",
              "      <td>-0.364009</td>\n",
              "      <td>-0.331354</td>\n",
              "      <td>-0.338189</td>\n",
              "      <td>-0.293494</td>\n",
              "      <td>-0.575803</td>\n",
              "      <td>-0.568893</td>\n",
              "      <td>-0.519758</td>\n",
              "      <td>-0.471387</td>\n",
              "      <td>-0.433004</td>\n",
              "      <td>-0.566536</td>\n",
              "      <td>-0.544137</td>\n",
              "      <td>-0.606697</td>\n",
              "      <td>-0.559114</td>\n",
              "      <td>-0.559640</td>\n",
              "      <td>0.729948</td>\n",
              "    </tr>\n",
              "    <tr>\n",
              "      <th>3</th>\n",
              "      <td>-0.913728</td>\n",
              "      <td>0.810161</td>\n",
              "      <td>0.255476</td>\n",
              "      <td>-1.072064</td>\n",
              "      <td>0.385572</td>\n",
              "      <td>-0.542317</td>\n",
              "      <td>-0.416674</td>\n",
              "      <td>-0.404199</td>\n",
              "      <td>-0.364009</td>\n",
              "      <td>-0.331354</td>\n",
              "      <td>-0.338189</td>\n",
              "      <td>0.052570</td>\n",
              "      <td>0.118508</td>\n",
              "      <td>0.196266</td>\n",
              "      <td>-0.192677</td>\n",
              "      <td>-0.120193</td>\n",
              "      <td>-0.077427</td>\n",
              "      <td>-0.428533</td>\n",
              "      <td>-0.397227</td>\n",
              "      <td>-0.547095</td>\n",
              "      <td>-0.526575</td>\n",
              "      <td>-0.537339</td>\n",
              "      <td>-0.547546</td>\n",
              "    </tr>\n",
              "    <tr>\n",
              "      <th>4</th>\n",
              "      <td>-0.913728</td>\n",
              "      <td>-1.234323</td>\n",
              "      <td>0.255476</td>\n",
              "      <td>-1.072064</td>\n",
              "      <td>1.284761</td>\n",
              "      <td>-0.542317</td>\n",
              "      <td>-0.416674</td>\n",
              "      <td>-0.404199</td>\n",
              "      <td>-0.364009</td>\n",
              "      <td>-0.331354</td>\n",
              "      <td>-0.338189</td>\n",
              "      <td>-0.695529</td>\n",
              "      <td>-0.745432</td>\n",
              "      <td>-0.091878</td>\n",
              "      <td>-0.365165</td>\n",
              "      <td>-0.366162</td>\n",
              "      <td>-0.342014</td>\n",
              "      <td>-0.428533</td>\n",
              "      <td>2.215885</td>\n",
              "      <td>2.075405</td>\n",
              "      <td>2.043994</td>\n",
              "      <td>-0.660155</td>\n",
              "      <td>-0.650065</td>\n",
              "    </tr>\n",
              "  </tbody>\n",
              "</table>\n",
              "</div>"
            ],
            "text/plain": [
              "   LIMIT_BAL       SEX  EDUCATION  MARRIAGE       AGE     PAY_1     PAY_2  \\\n",
              "0  -1.148083  0.810161   0.255476 -1.072064 -1.412805  1.843941  2.399959   \n",
              "1  -0.366901  0.810161   0.255476  0.857960 -1.412805 -0.542317  2.399959   \n",
              "2  -0.601256  0.810161   0.255476  0.857960  0.385572 -0.542317 -0.416674   \n",
              "3  -0.913728  0.810161   0.255476 -1.072064  0.385572 -0.542317 -0.416674   \n",
              "4  -0.913728 -1.234323   0.255476 -1.072064  1.284761 -0.542317 -0.416674   \n",
              "\n",
              "      PAY_3     PAY_4     PAY_5     PAY_6  BILL_AMT1  BILL_AMT2  BILL_AMT3  \\\n",
              "0 -0.404199 -0.364009 -0.331354 -0.338189  -0.787236  -0.797557  -0.844489   \n",
              "1 -0.404199 -0.364009 -0.331354  2.956928  -0.811235  -0.825508  -0.801811   \n",
              "2 -0.404199 -0.364009 -0.331354 -0.338189  -0.293494  -0.575803  -0.568893   \n",
              "3 -0.404199 -0.364009 -0.331354 -0.338189   0.052570   0.118508   0.196266   \n",
              "4 -0.404199 -0.364009 -0.331354 -0.338189  -0.695529  -0.745432  -0.091878   \n",
              "\n",
              "   BILL_AMT4  BILL_AMT5  BILL_AMT6  PAY_AMT1  PAY_AMT2  PAY_AMT3  PAY_AMT4  \\\n",
              "0  -0.854980  -0.846067  -0.827978 -1.001158 -0.773703 -0.904708 -0.884502   \n",
              "1  -0.778444  -0.759465  -0.745143 -1.001158 -0.685670 -0.606697 -0.559114   \n",
              "2  -0.519758  -0.471387  -0.433004 -0.566536 -0.544137 -0.606697 -0.559114   \n",
              "3  -0.192677  -0.120193  -0.077427 -0.428533 -0.397227 -0.547095 -0.526575   \n",
              "4  -0.365165  -0.366162  -0.342014 -0.428533  2.215885  2.075405  2.043994   \n",
              "\n",
              "   PAY_AMT5  PAY_AMT6  \n",
              "0 -0.882842 -0.866920  \n",
              "1 -0.882842 -0.228173  \n",
              "2 -0.559640  0.729948  \n",
              "3 -0.537339 -0.547546  \n",
              "4 -0.660155 -0.650065  "
            ]
          },
          "metadata": {
            "tags": []
          },
          "execution_count": 47
        }
      ]
    },
    {
      "cell_type": "markdown",
      "metadata": {
        "id": "eH6wLT-sFRCd",
        "colab_type": "text"
      },
      "source": [
        "## Model Building"
      ]
    },
    {
      "cell_type": "code",
      "metadata": {
        "id": "HZJOJFC9FIbl",
        "colab_type": "code",
        "colab": {}
      },
      "source": [
        "from sklearn.tree import DecisionTreeClassifier\n",
        "from sklearn.linear_model import LogisticRegression\n",
        "from sklearn.ensemble import AdaBoostClassifier,BaggingClassifier,RandomForestClassifier\n",
        "#evaluation metrics\n",
        "from sklearn.metrics import f1_score,precision_score,recall_score,accuracy_score,classification_report,roc_auc_score\n",
        "#Building models on imbalanced class\n",
        "lr=LogisticRegression(penalty='l1')\n",
        "rf=RandomForestClassifier(n_estimators=350)\n",
        "dt=DecisionTreeClassifier(criterion='entropy')\n",
        "ada=AdaBoostClassifier(base_estimator=dt,n_estimators=200)\n",
        "bc=BaggingClassifier(base_estimator=dt,n_estimators=200)"
      ],
      "execution_count": 0,
      "outputs": []
    },
    {
      "cell_type": "code",
      "metadata": {
        "id": "LyP-X0Qrem1_",
        "colab_type": "code",
        "colab": {}
      },
      "source": [
        "from sklearn.model_selection import train_test_split\n",
        "X_train,X_test,y_train,y_test=train_test_split(X,y,test_size=0.2,stratify=y)"
      ],
      "execution_count": 0,
      "outputs": []
    },
    {
      "cell_type": "markdown",
      "metadata": {
        "id": "1l0ZiIhxfTWa",
        "colab_type": "text"
      },
      "source": [
        "## Base model"
      ]
    },
    {
      "cell_type": "code",
      "metadata": {
        "id": "axeRDanWe2x4",
        "colab_type": "code",
        "outputId": "abdc664e-3d8c-46fe-f810-878494e75b26",
        "colab": {
          "base_uri": "https://localhost:8080/",
          "height": 1000
        }
      },
      "source": [
        "#lr\n",
        "from sklearn.model_selection import StratifiedKFold\n",
        "skf = StratifiedKFold(n_splits=5)\n",
        "for train, test in skf.split(X, y):  \n",
        "    X_train, X_test = X.iloc[train], X.iloc[test]\n",
        "    y_train, y_test = y.iloc[train], y.iloc[test]\n",
        "    model_lr=lr.fit(X_train,y_train)\n",
        "    pred_lr=model_lr.predict(X_test)\n",
        "    print(\"Train Accuracy:\",model_lr.score(X_train,y_train))\n",
        "    print(\"Test Accuracy:\",model_lr.score(X_test,y_test))\n",
        "    print(classification_report(pred_lr,y_test))\n",
        "    print(\"ROC-AUC: \",roc_auc_score(pred_lr,y_test))"
      ],
      "execution_count": 136,
      "outputs": [
        {
          "output_type": "stream",
          "text": [
            "Train Accuracy: 0.8186591107962832\n",
            "Test Accuracy: 0.8103649391768039\n",
            "              precision    recall  f1-score   support\n",
            "\n",
            "           0       0.95      0.83      0.89      5380\n",
            "           1       0.30      0.61      0.40       621\n",
            "\n",
            "    accuracy                           0.81      6001\n",
            "   macro avg       0.62      0.72      0.64      6001\n",
            "weighted avg       0.88      0.81      0.84      6001\n",
            "\n",
            "ROC-AUC:  0.7204571712491544\n",
            "Train Accuracy: 0.8186591107962832\n",
            "Test Accuracy: 0.8116980503249458\n",
            "              precision    recall  f1-score   support\n",
            "\n",
            "           0       0.95      0.84      0.89      5358\n",
            "           1       0.31      0.61      0.41       643\n",
            "\n",
            "    accuracy                           0.81      6001\n",
            "   macro avg       0.63      0.72      0.65      6001\n",
            "weighted avg       0.88      0.81      0.84      6001\n",
            "\n",
            "ROC-AUC:  0.7227942751554775\n",
            "Train Accuracy: 0.818125\n",
            "Test Accuracy: 0.8138333333333333\n",
            "              precision    recall  f1-score   support\n",
            "\n",
            "           0       0.94      0.84      0.89      5311\n",
            "           1       0.33      0.61      0.43       689\n",
            "\n",
            "    accuracy                           0.81      6000\n",
            "   macro avg       0.64      0.73      0.66      6000\n",
            "weighted avg       0.87      0.81      0.84      6000\n",
            "\n",
            "ROC-AUC:  0.7255867890915123\n",
            "Train Accuracy: 0.8152993625265614\n",
            "Test Accuracy: 0.8236372728788132\n",
            "              precision    recall  f1-score   support\n",
            "\n",
            "           0       0.96      0.84      0.90      5441\n",
            "           1       0.30      0.69      0.42       558\n",
            "\n",
            "    accuracy                           0.82      5999\n",
            "   macro avg       0.63      0.76      0.66      5999\n",
            "weighted avg       0.90      0.82      0.85      5999\n",
            "\n",
            "ROC-AUC:  0.7636551168975237\n",
            "Train Accuracy: 0.8155910170409566\n",
            "Test Accuracy: 0.8224704117352892\n",
            "              precision    recall  f1-score   support\n",
            "\n",
            "           0       0.96      0.84      0.90      5450\n",
            "           1       0.30      0.69      0.41       549\n",
            "\n",
            "    accuracy                           0.82      5999\n",
            "   macro avg       0.63      0.76      0.65      5999\n",
            "weighted avg       0.90      0.82      0.85      5999\n",
            "\n",
            "ROC-AUC:  0.761424942764994\n"
          ],
          "name": "stdout"
        }
      ]
    },
    {
      "cell_type": "code",
      "metadata": {
        "id": "0fDYtRT4fb6R",
        "colab_type": "code",
        "outputId": "76cc8ab6-f39f-4ee1-eef3-b8a3059720db",
        "colab": {
          "base_uri": "https://localhost:8080/",
          "height": 204
        }
      },
      "source": [
        "#naive bayes model\n",
        "from sklearn.naive_bayes import GaussianNB\n",
        "gnb = GaussianNB()\n",
        "model_gnb=gnb.fit(X_train,y_train)\n",
        "pred_gnb=model_gnb.predict(X_test)\n",
        "print(\"Train Accuracy:\",model_gnb.score(X_train,y_train))\n",
        "print(\"Test Accuracy:\",model_gnb.score(X_test,y_test))\n",
        "print(classification_report(pred_gnb,y_test))"
      ],
      "execution_count": 137,
      "outputs": [
        {
          "output_type": "stream",
          "text": [
            "Train Accuracy: 0.7784675638515062\n",
            "Test Accuracy: 0.796799466577763\n",
            "              precision    recall  f1-score   support\n",
            "\n",
            "           0       0.88      0.87      0.87      4780\n",
            "           1       0.50      0.52      0.51      1219\n",
            "\n",
            "    accuracy                           0.80      5999\n",
            "   macro avg       0.69      0.69      0.69      5999\n",
            "weighted avg       0.80      0.80      0.80      5999\n",
            "\n"
          ],
          "name": "stdout"
        }
      ]
    },
    {
      "cell_type": "code",
      "metadata": {
        "id": "nGbhYdgHnWmI",
        "colab_type": "code",
        "outputId": "7f784eb3-a238-4f35-9af5-27b80cc9a300",
        "colab": {
          "base_uri": "https://localhost:8080/",
          "height": 187
        }
      },
      "source": [
        "#Random Forest\n",
        "skf = StratifiedKFold(n_splits=2)\n",
        "for train, test in skf.split(X, y):  \n",
        "    X_train, X_test = X.iloc[train], X.iloc[test]\n",
        "    y_train, y_test = y.iloc[train], y.iloc[test]\n",
        "    model_rf=rf.fit(X_train,y_train)\n",
        "    pred_rf=model_rf.predict(X_test)\n",
        "    print(\"F1\",f1_score(y_test,pred_rf))\n",
        "    print(\"Precision\",precision_score(y_test,pred_rf))\n",
        "    print(\"Recall\",recall_score(y_test,pred_rf))\n",
        "    print(\"Train Accuracy:\",model_rf.score(X_train,y_train))\n",
        "    print(\"Test Accuracy:\",model_rf.score(X_test,y_test))\n",
        "# overfitting "
      ],
      "execution_count": 138,
      "outputs": [
        {
          "output_type": "stream",
          "text": [
            "F1 0.46018376722817766\n",
            "Precision 0.5869140625\n",
            "Recall 0.378463476070529\n",
            "Train Accuracy: 0.9984666666666666\n",
            "Test Accuracy: 0.812\n",
            "F1 0.45941070354780517\n",
            "Precision 0.6321014892443464\n",
            "Recall 0.3608312342569269\n",
            "Train Accuracy: 0.9972\n",
            "Test Accuracy: 0.8202\n"
          ],
          "name": "stdout"
        }
      ]
    },
    {
      "cell_type": "code",
      "metadata": {
        "id": "Rf7nsRrZoXlk",
        "colab_type": "code",
        "colab": {}
      },
      "source": [
        "cols=pd.DataFrame({\"Features\":model_rf.feature_importances_,\"Col\":X.columns})"
      ],
      "execution_count": 0,
      "outputs": []
    },
    {
      "cell_type": "code",
      "metadata": {
        "id": "wgZSNXq0otye",
        "colab_type": "code",
        "outputId": "a371384a-5f13-49d6-ba12-e13f53973dc4",
        "colab": {
          "base_uri": "https://localhost:8080/",
          "height": 762
        }
      },
      "source": [
        "cols.sort_values(by=\"Features\",ascending=False)"
      ],
      "execution_count": 140,
      "outputs": [
        {
          "output_type": "execute_result",
          "data": {
            "text/html": [
              "<div>\n",
              "<style scoped>\n",
              "    .dataframe tbody tr th:only-of-type {\n",
              "        vertical-align: middle;\n",
              "    }\n",
              "\n",
              "    .dataframe tbody tr th {\n",
              "        vertical-align: top;\n",
              "    }\n",
              "\n",
              "    .dataframe thead th {\n",
              "        text-align: right;\n",
              "    }\n",
              "</style>\n",
              "<table border=\"1\" class=\"dataframe\">\n",
              "  <thead>\n",
              "    <tr style=\"text-align: right;\">\n",
              "      <th></th>\n",
              "      <th>Features</th>\n",
              "      <th>Col</th>\n",
              "    </tr>\n",
              "  </thead>\n",
              "  <tbody>\n",
              "    <tr>\n",
              "      <th>0</th>\n",
              "      <td>0.074718</td>\n",
              "      <td>LIMIT_BAL</td>\n",
              "    </tr>\n",
              "    <tr>\n",
              "      <th>11</th>\n",
              "      <td>0.070386</td>\n",
              "      <td>BILL_AMT1</td>\n",
              "    </tr>\n",
              "    <tr>\n",
              "      <th>5</th>\n",
              "      <td>0.069230</td>\n",
              "      <td>PAY_1</td>\n",
              "    </tr>\n",
              "    <tr>\n",
              "      <th>12</th>\n",
              "      <td>0.061336</td>\n",
              "      <td>BILL_AMT2</td>\n",
              "    </tr>\n",
              "    <tr>\n",
              "      <th>17</th>\n",
              "      <td>0.059033</td>\n",
              "      <td>PAY_AMT1</td>\n",
              "    </tr>\n",
              "    <tr>\n",
              "      <th>13</th>\n",
              "      <td>0.057522</td>\n",
              "      <td>BILL_AMT3</td>\n",
              "    </tr>\n",
              "    <tr>\n",
              "      <th>14</th>\n",
              "      <td>0.056473</td>\n",
              "      <td>BILL_AMT4</td>\n",
              "    </tr>\n",
              "    <tr>\n",
              "      <th>16</th>\n",
              "      <td>0.054553</td>\n",
              "      <td>BILL_AMT6</td>\n",
              "    </tr>\n",
              "    <tr>\n",
              "      <th>15</th>\n",
              "      <td>0.054250</td>\n",
              "      <td>BILL_AMT5</td>\n",
              "    </tr>\n",
              "    <tr>\n",
              "      <th>18</th>\n",
              "      <td>0.053651</td>\n",
              "      <td>PAY_AMT2</td>\n",
              "    </tr>\n",
              "    <tr>\n",
              "      <th>19</th>\n",
              "      <td>0.051463</td>\n",
              "      <td>PAY_AMT3</td>\n",
              "    </tr>\n",
              "    <tr>\n",
              "      <th>22</th>\n",
              "      <td>0.049710</td>\n",
              "      <td>PAY_AMT6</td>\n",
              "    </tr>\n",
              "    <tr>\n",
              "      <th>21</th>\n",
              "      <td>0.048437</td>\n",
              "      <td>PAY_AMT5</td>\n",
              "    </tr>\n",
              "    <tr>\n",
              "      <th>20</th>\n",
              "      <td>0.047415</td>\n",
              "      <td>PAY_AMT4</td>\n",
              "    </tr>\n",
              "    <tr>\n",
              "      <th>6</th>\n",
              "      <td>0.033855</td>\n",
              "      <td>PAY_2</td>\n",
              "    </tr>\n",
              "    <tr>\n",
              "      <th>4</th>\n",
              "      <td>0.030630</td>\n",
              "      <td>AGE</td>\n",
              "    </tr>\n",
              "    <tr>\n",
              "      <th>2</th>\n",
              "      <td>0.023472</td>\n",
              "      <td>EDUCATION</td>\n",
              "    </tr>\n",
              "    <tr>\n",
              "      <th>7</th>\n",
              "      <td>0.023018</td>\n",
              "      <td>PAY_3</td>\n",
              "    </tr>\n",
              "    <tr>\n",
              "      <th>8</th>\n",
              "      <td>0.019753</td>\n",
              "      <td>PAY_4</td>\n",
              "    </tr>\n",
              "    <tr>\n",
              "      <th>3</th>\n",
              "      <td>0.017001</td>\n",
              "      <td>MARRIAGE</td>\n",
              "    </tr>\n",
              "    <tr>\n",
              "      <th>9</th>\n",
              "      <td>0.016541</td>\n",
              "      <td>PAY_5</td>\n",
              "    </tr>\n",
              "    <tr>\n",
              "      <th>1</th>\n",
              "      <td>0.015314</td>\n",
              "      <td>SEX</td>\n",
              "    </tr>\n",
              "    <tr>\n",
              "      <th>10</th>\n",
              "      <td>0.012239</td>\n",
              "      <td>PAY_6</td>\n",
              "    </tr>\n",
              "  </tbody>\n",
              "</table>\n",
              "</div>"
            ],
            "text/plain": [
              "    Features        Col\n",
              "0   0.074718  LIMIT_BAL\n",
              "11  0.070386  BILL_AMT1\n",
              "5   0.069230      PAY_1\n",
              "12  0.061336  BILL_AMT2\n",
              "17  0.059033   PAY_AMT1\n",
              "13  0.057522  BILL_AMT3\n",
              "14  0.056473  BILL_AMT4\n",
              "16  0.054553  BILL_AMT6\n",
              "15  0.054250  BILL_AMT5\n",
              "18  0.053651   PAY_AMT2\n",
              "19  0.051463   PAY_AMT3\n",
              "22  0.049710   PAY_AMT6\n",
              "21  0.048437   PAY_AMT5\n",
              "20  0.047415   PAY_AMT4\n",
              "6   0.033855      PAY_2\n",
              "4   0.030630        AGE\n",
              "2   0.023472  EDUCATION\n",
              "7   0.023018      PAY_3\n",
              "8   0.019753      PAY_4\n",
              "3   0.017001   MARRIAGE\n",
              "9   0.016541      PAY_5\n",
              "1   0.015314        SEX\n",
              "10  0.012239      PAY_6"
            ]
          },
          "metadata": {
            "tags": []
          },
          "execution_count": 140
        }
      ]
    },
    {
      "cell_type": "markdown",
      "metadata": {
        "id": "Qe7Pmxg3qIIP",
        "colab_type": "text"
      },
      "source": [
        "## Applying PCA"
      ]
    },
    {
      "cell_type": "code",
      "metadata": {
        "id": "V3aabYR1qT58",
        "colab_type": "code",
        "outputId": "0d2dd674-fcf7-4f7d-defc-3898c31aeb4a",
        "colab": {
          "base_uri": "https://localhost:8080/",
          "height": 102
        }
      },
      "source": [
        "X.columns"
      ],
      "execution_count": 141,
      "outputs": [
        {
          "output_type": "execute_result",
          "data": {
            "text/plain": [
              "Index(['LIMIT_BAL', 'SEX', 'EDUCATION', 'MARRIAGE', 'AGE', 'PAY_1', 'PAY_2',\n",
              "       'PAY_3', 'PAY_4', 'PAY_5', 'PAY_6', 'BILL_AMT1', 'BILL_AMT2',\n",
              "       'BILL_AMT3', 'BILL_AMT4', 'BILL_AMT5', 'BILL_AMT6', 'PAY_AMT1',\n",
              "       'PAY_AMT2', 'PAY_AMT3', 'PAY_AMT4', 'PAY_AMT5', 'PAY_AMT6'],\n",
              "      dtype='object')"
            ]
          },
          "metadata": {
            "tags": []
          },
          "execution_count": 141
        }
      ]
    },
    {
      "cell_type": "code",
      "metadata": {
        "id": "zwciUJLbqAfl",
        "colab_type": "code",
        "colab": {}
      },
      "source": [
        "cont=['LIMIT_BAL','AGE','BILL_AMT1', 'BILL_AMT2','BILL_AMT3', 'BILL_AMT4', 'BILL_AMT5', 'BILL_AMT6','PAY_AMT1',\n",
        "       'PAY_AMT2', 'PAY_AMT3', 'PAY_AMT4', 'PAY_AMT5', 'PAY_AMT6']\n",
        "from sklearn.decomposition import PCA\n",
        "pca=PCA()\n",
        "pca_X = pca.fit_transform(X[cont])\n",
        "pca_X=pd.DataFrame(pca_X,columns=cont)"
      ],
      "execution_count": 0,
      "outputs": []
    },
    {
      "cell_type": "code",
      "metadata": {
        "id": "IVFSbwuBqaLM",
        "colab_type": "code",
        "outputId": "19fba803-9487-4e28-fc30-7121207fa71a",
        "colab": {
          "base_uri": "https://localhost:8080/",
          "height": 34
        }
      },
      "source": [
        "sum(np.cumsum(pca.explained_variance_ratio_)<=0.95)"
      ],
      "execution_count": 143,
      "outputs": [
        {
          "output_type": "execute_result",
          "data": {
            "text/plain": [
              "8"
            ]
          },
          "metadata": {
            "tags": []
          },
          "execution_count": 143
        }
      ]
    },
    {
      "cell_type": "code",
      "metadata": {
        "id": "xbYRwjIyqdTP",
        "colab_type": "code",
        "outputId": "444749ed-81ac-41da-b185-d89e2aaf00f5",
        "colab": {
          "base_uri": "https://localhost:8080/",
          "height": 286
        }
      },
      "source": [
        "import matplotlib.pyplot as plt\n",
        "plt.plot(np.cumsum(pca.explained_variance_ratio_),\"-o\",markerfacecolor='red',linestyle='dashed')"
      ],
      "execution_count": 144,
      "outputs": [
        {
          "output_type": "execute_result",
          "data": {
            "text/plain": [
              "[<matplotlib.lines.Line2D at 0x7f922c23dba8>]"
            ]
          },
          "metadata": {
            "tags": []
          },
          "execution_count": 144
        },
        {
          "output_type": "display_data",
          "data": {
            "image/png": "[encoded data removed]",
            "text/plain": [
              "<Figure size 432x288 with 1 Axes>"
            ]
          },
          "metadata": {
            "tags": []
          }
        }
      ]
    },
    {
      "cell_type": "code",
      "metadata": {
        "id": "fAI9NiroqgYH",
        "colab_type": "code",
        "colab": {}
      },
      "source": [
        "# Deploy PCA with 8 components\n",
        "pca=PCA(n_components=8)\n",
        "pca_X=pca.fit_transform(X[cont])"
      ],
      "execution_count": 0,
      "outputs": []
    },
    {
      "cell_type": "code",
      "metadata": {
        "id": "1yv6GRRaqj1n",
        "colab_type": "code",
        "colab": {}
      },
      "source": [
        "pca_X=pd.DataFrame(pca_X,columns=[1,2,3,4,5,6,7,8])"
      ],
      "execution_count": 0,
      "outputs": []
    },
    {
      "cell_type": "code",
      "metadata": {
        "id": "0wZolrFyqolD",
        "colab_type": "code",
        "colab": {}
      },
      "source": [
        "pca_X=pd.concat([pca_X,data[['SEX', 'EDUCATION', 'MARRIAGE','PAY_1','PAY_2', 'PAY_3', 'PAY_4', 'PAY_5', 'PAY_6']]],axis=1)"
      ],
      "execution_count": 0,
      "outputs": []
    },
    {
      "cell_type": "markdown",
      "metadata": {
        "id": "OE4FOqJuj89H",
        "colab_type": "text"
      },
      "source": [
        "## XG Boost on pca components"
      ]
    },
    {
      "cell_type": "code",
      "metadata": {
        "id": "Bsg4OoNWySeV",
        "colab_type": "code",
        "outputId": "f02a6c3b-d961-4fc6-8741-7ac90f88dd25",
        "colab": {
          "base_uri": "https://localhost:8080/",
          "height": 391
        }
      },
      "source": [
        "from xgboost import XGBClassifier\n",
        "xgb=XGBClassifier(n_estimatore=500)\n",
        "for train, test in skf.split(pca_X, y):  \n",
        "    X_train, X_test = pca_X.iloc[train], pca_X.iloc[test]\n",
        "    y_train, y_test = y.iloc[train], y.iloc[test]\n",
        "    model_xgb=xgb.fit(X_train,y_train)\n",
        "    pred_xgb=model_xgb.predict(X_test)\n",
        "    print(\"Train Accuracy:\",model_xgb.score(X_train,y_train))\n",
        "    print(\"Test Accuracy:\",model_xgb.score(X_test,y_test))\n",
        "    print(classification_report(pred_xgb,y_test))"
      ],
      "execution_count": 0,
      "outputs": [
        {
          "output_type": "stream",
          "text": [
            "Train Accuracy: 0.8347333333333333\n",
            "Test Accuracy: 0.8138\n",
            "              precision    recall  f1-score   support\n",
            "\n",
            "           0       0.94      0.84      0.89     13135\n",
            "           1       0.35      0.60      0.45      1865\n",
            "\n",
            "    accuracy                           0.81     15000\n",
            "   macro avg       0.65      0.72      0.67     15000\n",
            "weighted avg       0.86      0.81      0.83     15000\n",
            "\n",
            "Train Accuracy: 0.822\n",
            "Test Accuracy: 0.822\n",
            "              precision    recall  f1-score   support\n",
            "\n",
            "           0       0.96      0.84      0.89     13430\n",
            "           1       0.33      0.66      0.44      1570\n",
            "\n",
            "    accuracy                           0.82     15000\n",
            "   macro avg       0.64      0.75      0.67     15000\n",
            "weighted avg       0.89      0.82      0.85     15000\n",
            "\n"
          ],
          "name": "stdout"
        }
      ]
    },
    {
      "cell_type": "code",
      "metadata": {
        "id": "g9mhA72ekKDL",
        "colab_type": "code",
        "outputId": "67b4668a-d730-49e2-f6c9-81f4e49aa39f",
        "colab": {
          "base_uri": "https://localhost:8080/",
          "height": 295
        }
      },
      "source": [
        "# feature importance\n",
        "from xgboost import plot_importance\n",
        "plot_importance(model_xgb)\n",
        "plt.show()"
      ],
      "execution_count": 0,
      "outputs": [
        {
          "output_type": "display_data",
          "data": {
            "image/png": "[encoded data removed]",
            "text/plain": [
              "<Figure size 432x288 with 1 Axes>"
            ]
          },
          "metadata": {
            "tags": []
          }
        }
      ]
    },
    {
      "cell_type": "markdown",
      "metadata": {
        "id": "bcABcfH4mbCC",
        "colab_type": "text"
      },
      "source": [
        "## Naive bayes on PCA components"
      ]
    },
    {
      "cell_type": "code",
      "metadata": {
        "id": "wYgLTfm9lrTc",
        "colab_type": "code",
        "outputId": "0eb015e3-264a-4de2-b32d-c5abfa96344d",
        "colab": {
          "base_uri": "https://localhost:8080/",
          "height": 391
        }
      },
      "source": [
        "#naive bayes model\n",
        "from sklearn.naive_bayes import GaussianNB\n",
        "gnb = GaussianNB()\n",
        "for train, test in skf.split(pca_X, y):  \n",
        "    X_train, X_test = pca_X.iloc[train], pca_X.iloc[test]\n",
        "    y_train, y_test = y.iloc[train], y.iloc[test]\n",
        "    model_gnb=gnb.fit(X_train,y_train)\n",
        "    pred_gnb=model_gnb.predict(X_test)\n",
        "    print(\"Train Accuracy:\",model_gnb.score(X_train,y_train))\n",
        "    print(\"Test Accuracy:\",model_gnb.score(X_test,y_test))\n",
        "    print(classification_report(pred_gnb,y_test))"
      ],
      "execution_count": 0,
      "outputs": [
        {
          "output_type": "stream",
          "text": [
            "Train Accuracy: 0.7926666666666666\n",
            "Test Accuracy: 0.7727333333333334\n",
            "              precision    recall  f1-score   support\n",
            "\n",
            "           0       0.85      0.86      0.86     11701\n",
            "           1       0.48      0.46      0.47      3299\n",
            "\n",
            "    accuracy                           0.77     15000\n",
            "   macro avg       0.67      0.66      0.66     15000\n",
            "weighted avg       0.77      0.77      0.77     15000\n",
            "\n",
            "Train Accuracy: 0.7794666666666666\n",
            "Test Accuracy: 0.7928666666666667\n",
            "              precision    recall  f1-score   support\n",
            "\n",
            "           0       0.87      0.87      0.87     11787\n",
            "           1       0.52      0.51      0.51      3213\n",
            "\n",
            "    accuracy                           0.79     15000\n",
            "   macro avg       0.69      0.69      0.69     15000\n",
            "weighted avg       0.79      0.79      0.79     15000\n",
            "\n"
          ],
          "name": "stdout"
        }
      ]
    },
    {
      "cell_type": "code",
      "metadata": {
        "id": "46HtphCg2pMT",
        "colab_type": "code",
        "outputId": "7f218ff3-d277-4575-af6d-fa3558a55cf7",
        "colab": {
          "base_uri": "https://localhost:8080/",
          "height": 119
        }
      },
      "source": [
        "#rf\n",
        "for train, test in skf.split(pca_X, y):  \n",
        "    X_train, X_test = pca_X.iloc[train], pca_X.iloc[test]\n",
        "    y_train, y_test = y.iloc[train], y.iloc[test]\n",
        "    model_rf=rf.fit(X_train,y_train)\n",
        "    pred_rf=model_rf.predict(X_test)\n",
        "    print(\"Train Accuracy:\",model_rf.score(X_train,y_train))\n",
        "    print(\"Test Accuracy:\",model_rf.score(X_test,y_test))"
      ],
      "execution_count": 0,
      "outputs": [
        {
          "output_type": "stream",
          "text": [
            "Train Accuracy: 0.9977998899944998\n",
            "Test Accuracy: 0.8136186381361864\n",
            "Train Accuracy: 0.9973\n",
            "Test Accuracy: 0.8187\n",
            "Train Accuracy: 0.9971501424928754\n",
            "Test Accuracy: 0.8215821582158216\n"
          ],
          "name": "stdout"
        }
      ]
    },
    {
      "cell_type": "markdown",
      "metadata": {
        "id": "_dbaiy_lnWWt",
        "colab_type": "text"
      },
      "source": [
        "## Resampling the target variable"
      ]
    },
    {
      "cell_type": "code",
      "metadata": {
        "id": "zKT-UVH7mmoR",
        "colab_type": "code",
        "colab": {}
      },
      "source": [
        "from imblearn.over_sampling import SMOTE\n",
        "smote=SMOTE()\n",
        "smote=SMOTE(ratio=0.4,sampling_strategy='minority')"
      ],
      "execution_count": 0,
      "outputs": []
    },
    {
      "cell_type": "markdown",
      "metadata": {
        "id": "Sh4FofLd7Ps_",
        "colab_type": "text"
      },
      "source": [
        "## Logistic Regression"
      ]
    },
    {
      "cell_type": "code",
      "metadata": {
        "id": "y3KeZEohpif9",
        "colab_type": "code",
        "outputId": "72bdce35-4c46-47f0-8f79-3eceba685fae",
        "colab": {
          "base_uri": "https://localhost:8080/",
          "height": 952
        }
      },
      "source": [
        "smote=SMOTE(ratio=0.5,sampling_strategy='minority')\n",
        "#lr model\n",
        "X_resampled, y_resampled = smote.fit_sample(pca_X, y)\n",
        "skf = StratifiedKFold(n_splits=5)\n",
        "for train, test in skf.split(X_resampled, y_resampled):\n",
        "    X_train, X_test = X_resampled[train], X_resampled[test]\n",
        "    y_train, y_test = y_resampled[train], y_resampled[test]\n",
        "    model_lr=lr.fit(X_train,y_train)\n",
        "    pred_lr=model_lr.predict(X_test)\n",
        "    print(\"Train Accuracy:\",model_lr.score(X_train,y_train))\n",
        "    print(\"Test Accuracy:\",model_lr.score(X_test,y_test))\n",
        "    print(classification_report(pred_lr,y_test))"
      ],
      "execution_count": 0,
      "outputs": [
        {
          "output_type": "stream",
          "text": [
            "Train Accuracy: 0.7616379462240547\n",
            "Test Accuracy: 0.7517970401691332\n",
            "              precision    recall  f1-score   support\n",
            "\n",
            "           0       0.89      0.77      0.83      5413\n",
            "           1       0.48      0.68      0.56      1682\n",
            "\n",
            "    accuracy                           0.75      7095\n",
            "   macro avg       0.68      0.73      0.70      7095\n",
            "weighted avg       0.79      0.75      0.76      7095\n",
            "\n",
            "Train Accuracy: 0.7571624907495507\n",
            "Test Accuracy: 0.7643410852713178\n",
            "              precision    recall  f1-score   support\n",
            "\n",
            "           0       0.87      0.79      0.83      5184\n",
            "           1       0.55      0.68      0.61      1911\n",
            "\n",
            "    accuracy                           0.76      7095\n",
            "   macro avg       0.71      0.74      0.72      7095\n",
            "weighted avg       0.78      0.76      0.77      7095\n",
            "\n",
            "Train Accuracy: 0.7635056559890052\n",
            "Test Accuracy: 0.7478505990133897\n",
            "              precision    recall  f1-score   support\n",
            "\n",
            "           0       0.88      0.77      0.82      5357\n",
            "           1       0.49      0.67      0.56      1738\n",
            "\n",
            "    accuracy                           0.75      7095\n",
            "   macro avg       0.68      0.72      0.69      7095\n",
            "weighted avg       0.78      0.75      0.76      7095\n",
            "\n",
            "Train Accuracy: 0.7569948551694975\n",
            "Test Accuracy: 0.7628982238511418\n",
            "              precision    recall  f1-score   support\n",
            "\n",
            "           0       0.90      0.78      0.84      5503\n",
            "           1       0.48      0.71      0.57      1591\n",
            "\n",
            "    accuracy                           0.76      7094\n",
            "   macro avg       0.69      0.75      0.71      7094\n",
            "weighted avg       0.81      0.76      0.78      7094\n",
            "\n",
            "Train Accuracy: 0.7575319778709609\n",
            "Test Accuracy: 0.7654025095164246\n",
            "              precision    recall  f1-score   support\n",
            "\n",
            "           0       0.90      0.78      0.84      5451\n",
            "           1       0.50      0.71      0.58      1642\n",
            "\n",
            "    accuracy                           0.77      7093\n",
            "   macro avg       0.70      0.75      0.71      7093\n",
            "weighted avg       0.81      0.77      0.78      7093\n",
            "\n"
          ],
          "name": "stdout"
        }
      ]
    },
    {
      "cell_type": "markdown",
      "metadata": {
        "id": "ZBZucjYh7NXx",
        "colab_type": "text"
      },
      "source": [
        "## Naive Bayes"
      ]
    },
    {
      "cell_type": "code",
      "metadata": {
        "id": "dqCUAn-hql0J",
        "colab_type": "code",
        "outputId": "79ee7d56-b4f4-4ef8-c2fa-80d8ddf78525",
        "colab": {
          "base_uri": "https://localhost:8080/",
          "height": 952
        }
      },
      "source": [
        "#nb \n",
        "for train, test in skf.split(X_resampled, y_resampled):\n",
        "    X_train, X_test = X_resampled[train], X_resampled[test]\n",
        "    y_train, y_test = y_resampled[train], y_resampled[test]\n",
        "    model_gnb=gnb.fit(X_train,y_train)\n",
        "    pred_gnb=model_gnb.predict(X_test)\n",
        "    print(\"Train Accuracy:\",model_gnb.score(X_train,y_train))\n",
        "    print(\"Test Accuracy:\",model_gnb.score(X_test,y_test))\n",
        "    print(classification_report(pred_gnb,y_test))"
      ],
      "execution_count": 0,
      "outputs": [
        {
          "output_type": "stream",
          "text": [
            "Train Accuracy: 0.7324946259294499\n",
            "Test Accuracy: 0.7267089499647639\n",
            "              precision    recall  f1-score   support\n",
            "\n",
            "           0       0.84      0.77      0.80      5177\n",
            "           1       0.50      0.61      0.55      1918\n",
            "\n",
            "    accuracy                           0.73      7095\n",
            "   macro avg       0.67      0.69      0.68      7095\n",
            "weighted avg       0.75      0.73      0.73      7095\n",
            "\n",
            "Train Accuracy: 0.7278782112274025\n",
            "Test Accuracy: 0.7441860465116279\n",
            "              precision    recall  f1-score   support\n",
            "\n",
            "           0       0.84      0.79      0.81      5009\n",
            "           1       0.56      0.63      0.59      2086\n",
            "\n",
            "    accuracy                           0.74      7095\n",
            "   macro avg       0.70      0.71      0.70      7095\n",
            "weighted avg       0.76      0.74      0.75      7095\n",
            "\n",
            "Train Accuracy: 0.7345032949219438\n",
            "Test Accuracy: 0.7130373502466526\n",
            "              precision    recall  f1-score   support\n",
            "\n",
            "           0       0.83      0.76      0.79      5126\n",
            "           1       0.49      0.58      0.53      1969\n",
            "\n",
            "    accuracy                           0.71      7095\n",
            "   macro avg       0.66      0.67      0.66      7095\n",
            "weighted avg       0.73      0.71      0.72      7095\n",
            "\n",
            "Train Accuracy: 0.7308830784410458\n",
            "Test Accuracy: 0.7324499577107415\n",
            "              precision    recall  f1-score   support\n",
            "\n",
            "           0       0.86      0.77      0.81      5307\n",
            "           1       0.48      0.63      0.54      1787\n",
            "\n",
            "    accuracy                           0.73      7094\n",
            "   macro avg       0.67      0.70      0.68      7094\n",
            "weighted avg       0.76      0.73      0.74      7094\n",
            "\n",
            "Train Accuracy: 0.7305754254906798\n",
            "Test Accuracy: 0.7376286479627802\n",
            "              precision    recall  f1-score   support\n",
            "\n",
            "           0       0.87      0.77      0.82      5342\n",
            "           1       0.48      0.64      0.55      1751\n",
            "\n",
            "    accuracy                           0.74      7093\n",
            "   macro avg       0.67      0.71      0.68      7093\n",
            "weighted avg       0.77      0.74      0.75      7093\n",
            "\n"
          ],
          "name": "stdout"
        }
      ]
    },
    {
      "cell_type": "markdown",
      "metadata": {
        "id": "a-F9KviA7JTL",
        "colab_type": "text"
      },
      "source": [
        "## XG Boost"
      ]
    },
    {
      "cell_type": "code",
      "metadata": {
        "id": "jbc-bnEhqpDA",
        "colab_type": "code",
        "outputId": "598c4fe2-39c9-4a40-f643-f7c6a8bd8a2d",
        "colab": {
          "base_uri": "https://localhost:8080/",
          "height": 952
        }
      },
      "source": [
        "for train, test in skf.split(X_resampled, y_resampled):\n",
        "    X_train, X_test = X_resampled[train], X_resampled[test]\n",
        "    y_train, y_test = y_resampled[train], y_resampled[test]\n",
        "    model_xgb=xgb.fit(X_train,y_train)\n",
        "    pred_xgb=model_xgb.predict(X_test)\n",
        "    print(\"Train Accuracy:\",model_xgb.score(X_train,y_train))\n",
        "    print(\"Test Accuracy:\",model_xgb.score(X_test,y_test))\n",
        "    print(classification_report(pred_xgb,y_test))"
      ],
      "execution_count": 0,
      "outputs": [
        {
          "output_type": "stream",
          "text": [
            "Train Accuracy: 0.8149205342354724\n",
            "Test Accuracy: 0.7525017618040873\n",
            "              precision    recall  f1-score   support\n",
            "\n",
            "           0       0.91      0.76      0.83      5624\n",
            "           1       0.44      0.71      0.54      1471\n",
            "\n",
            "    accuracy                           0.75      7095\n",
            "   macro avg       0.67      0.74      0.69      7095\n",
            "weighted avg       0.81      0.75      0.77      7095\n",
            "\n",
            "Train Accuracy: 0.8109736758642563\n",
            "Test Accuracy: 0.7661733615221987\n",
            "              precision    recall  f1-score   support\n",
            "\n",
            "           0       0.90      0.78      0.84      5407\n",
            "           1       0.51      0.71      0.59      1688\n",
            "\n",
            "    accuracy                           0.77      7095\n",
            "   macro avg       0.70      0.75      0.71      7095\n",
            "weighted avg       0.80      0.77      0.78      7095\n",
            "\n",
            "Train Accuracy: 0.8087888078373331\n",
            "Test Accuracy: 0.773784355179704\n",
            "              precision    recall  f1-score   support\n",
            "\n",
            "           0       0.90      0.79      0.84      5373\n",
            "           1       0.52      0.72      0.61      1722\n",
            "\n",
            "    accuracy                           0.77      7095\n",
            "   macro avg       0.71      0.76      0.72      7095\n",
            "weighted avg       0.81      0.77      0.78      7095\n",
            "\n",
            "Train Accuracy: 0.7855733314539431\n",
            "Test Accuracy: 0.8285875387651537\n",
            "              precision    recall  f1-score   support\n",
            "\n",
            "           0       0.91      0.84      0.88      5093\n",
            "           1       0.67      0.79      0.72      2001\n",
            "\n",
            "    accuracy                           0.83      7094\n",
            "   macro avg       0.79      0.82      0.80      7094\n",
            "weighted avg       0.84      0.83      0.83      7094\n",
            "\n",
            "Train Accuracy: 0.7889989076429754\n",
            "Test Accuracy: 0.8340617510221345\n",
            "              precision    recall  f1-score   support\n",
            "\n",
            "           0       0.91      0.85      0.88      5072\n",
            "           1       0.68      0.79      0.73      2021\n",
            "\n",
            "    accuracy                           0.83      7093\n",
            "   macro avg       0.80      0.82      0.81      7093\n",
            "weighted avg       0.85      0.83      0.84      7093\n",
            "\n"
          ],
          "name": "stdout"
        }
      ]
    },
    {
      "cell_type": "markdown",
      "metadata": {
        "id": "ddlDohJQ6bsg",
        "colab_type": "text"
      },
      "source": [
        "## RF MODEL"
      ]
    },
    {
      "cell_type": "code",
      "metadata": {
        "id": "6MuY5Icvqtq8",
        "colab_type": "code",
        "outputId": "9f1a0920-948c-48f3-9d84-9f19de57e187",
        "colab": {
          "base_uri": "https://localhost:8080/",
          "height": 952
        }
      },
      "source": [
        "for train, test in skf.split(X_resampled, y_resampled):\n",
        "    X_train, X_test = X_resampled[train], X_resampled[test]\n",
        "    y_train, y_test = y_resampled[train], y_resampled[test]\n",
        "    model_rf=rf.fit(X_train,y_train)\n",
        "    pred_rf=model_rf.predict(X_test)\n",
        "    print(\"Train Accuracy:\",model_rf.score(X_train,y_train))\n",
        "    print(\"Test Accuracy:\",model_rf.score(X_test,y_test))\n",
        "    print(classification_report(pred_rf,y_test))"
      ],
      "execution_count": 0,
      "outputs": [
        {
          "output_type": "stream",
          "text": [
            "Train Accuracy: 0.9984494484970222\n",
            "Test Accuracy: 0.7873150105708245\n",
            "              precision    recall  f1-score   support\n",
            "\n",
            "           0       0.92      0.80      0.85      5453\n",
            "           1       0.53      0.76      0.62      1642\n",
            "\n",
            "    accuracy                           0.79      7095\n",
            "   macro avg       0.72      0.78      0.74      7095\n",
            "weighted avg       0.83      0.79      0.80      7095\n",
            "\n",
            "Train Accuracy: 0.9980970504281637\n",
            "Test Accuracy: 0.7923890063424948\n",
            "              precision    recall  f1-score   support\n",
            "\n",
            "           0       0.91      0.81      0.85      5321\n",
            "           1       0.56      0.75      0.64      1774\n",
            "\n",
            "    accuracy                           0.79      7095\n",
            "   macro avg       0.74      0.78      0.75      7095\n",
            "weighted avg       0.82      0.79      0.80      7095\n",
            "\n",
            "Train Accuracy: 0.9977446523593051\n",
            "Test Accuracy: 0.7966173361522199\n",
            "              precision    recall  f1-score   support\n",
            "\n",
            "           0       0.90      0.81      0.86      5227\n",
            "           1       0.59      0.75      0.66      1868\n",
            "\n",
            "    accuracy                           0.80      7095\n",
            "   macro avg       0.74      0.78      0.76      7095\n",
            "weighted avg       0.82      0.80      0.80      7095\n",
            "\n",
            "Train Accuracy: 0.9971104376629784\n",
            "Test Accuracy: 0.879898505779532\n",
            "              precision    recall  f1-score   support\n",
            "\n",
            "           0       0.92      0.90      0.91      4825\n",
            "           1       0.80      0.83      0.82      2269\n",
            "\n",
            "    accuracy                           0.88      7094\n",
            "   macro avg       0.86      0.87      0.86      7094\n",
            "weighted avg       0.88      0.88      0.88      7094\n",
            "\n",
            "Train Accuracy: 0.997040064836675\n",
            "Test Accuracy: 0.8729733540109967\n",
            "              precision    recall  f1-score   support\n",
            "\n",
            "           0       0.91      0.90      0.91      4778\n",
            "           1       0.80      0.82      0.81      2315\n",
            "\n",
            "    accuracy                           0.87      7093\n",
            "   macro avg       0.85      0.86      0.86      7093\n",
            "weighted avg       0.87      0.87      0.87      7093\n",
            "\n"
          ],
          "name": "stdout"
        }
      ]
    },
    {
      "cell_type": "code",
      "metadata": {
        "id": "w_5dpOKU9gOI",
        "colab_type": "code",
        "colab": {}
      },
      "source": [
        ""
      ],
      "execution_count": 0,
      "outputs": []
    }
  ]
}